{
  "cells": [
    {
      "attachments": {},
      "cell_type": "markdown",
      "metadata": {
        "id": "DQtMRePlWBAe"
      },
      "source": [
        "# Performing visual question answering (VQA) with ViLT\n",
        "\n",
        "This is a demo notebook that we have modified from Source: https://colab.research.google.com/github/NielsRogge/Transformers-Tutorials/blob/master/ViLT/Inference_with_ViLT_(visual_question_answering).ipynb#scrollTo=eTEyjLn2gdlH. All of the credit goes to the original author, Niels Rogge.\n",
        "\n",
        "In this notebook, we are going to illustate visual question answering with the Vision-and-Language Transformer (ViLT). This model is very minimal: it only adds text embedding layers to an existing ViT model. It does not require any sophisticated CNN-based pipelines to feed the image to the model (unlike models like [PixelBERT](https://arxiv.org/abs/2004.00849) and [LXMERT](https://arxiv.org/abs/1908.07490)). This makes the model also much faster than previous works.\n",
        "\n",
        "![ViLT architecture](https://huggingface.co/datasets/huggingface/documentation-images/resolve/main/vilt_architecture.jpg)\n",
        "\n",
        "Figure taken from the original [paper](https://arxiv.org/abs/2102.03334).\n",
        "\n",
        "HuggingFace docs: https://huggingface.co/docs/transformers/master/en/model_doc/vilt\n",
        "\n",
        "## Set-up environment\n",
        "\n",
        "First, we install HuggingFace Transformers and import the requred packages.."
      ]
    },
    {
      "cell_type": "code",
      "execution_count": null,
      "metadata": {
        "colab": {
          "base_uri": "https://localhost:8080/"
        },
        "id": "u8BRnBrF7Pk1",
        "outputId": "45b91e75-8dae-4f37-f0f6-f26dbaa42e51"
      },
      "outputs": [],
      "source": [
        "%pip install -q git+https://github.com/huggingface/transformers.git\n",
        "import torch\n",
        "import time\n",
        "import requests\n",
        "from PIL import image\n",
        "from transformers import ViltProcessor"
      ]
    },
    {
      "cell_type": "markdown",
      "metadata": {
        "id": "zAelruSWWEAi"
      },
      "source": [
        "## Prepare image + question\n",
        "\n",
        "Here we take our familiar cats image (of the COCO dataset) and create a corresponding question."
      ]
    },
    {
      "cell_type": "code",
      "execution_count": null,
      "metadata": {
        "colab": {
          "base_uri": "https://localhost:8080/",
          "height": 497
        },
        "id": "IBUXExjAWHRt",
        "outputId": "abcc0416-a6b9-4794-ef73-5f054f17f056"
      },
      "outputs": [],
      "source": [
        "url = \"http://images.cocodataset.org/val2017/000000039769.jpg\"\n",
        "image = Image.open(requests.get(url, stream=True).raw) # open image using Pillow\n",
        "text = \"How many cats are there?\" # image prompt\n",
        "image # display image"
      ]
    },
    {
      "cell_type": "code",
      "execution_count": null,
      "metadata": {
        "id": "IxPSj3za_bhd"
      },
      "outputs": [],
      "source": [
        "processor = ViltProcessor.from_pretrained(\"dandelin/vilt-b32-finetuned-vqa\") # Initialized a pre-trained VILT for VQA"
      ]
    },
    {
      "cell_type": "markdown",
      "metadata": {
        "id": "wlWRIM_oXAyw"
      },
      "source": [
        "Let's prepare the image+text pair for the model. Here, we leverage `ViltProcessor`, which will use (behind the scenes):\n",
        "* `BertTokenizerFast` to tokenize the text (and create input_ids, attention_mask, token_type_ids)\n",
        "* `ViltFeatureExtractor` to resize + normalize the image (and create pixel_values and pixel_mask). \n",
        "\n",
        "Note that the `pixel_mask` is only relevant in case of batches, as it can be used to indicate which pixels are real/which are padding. Here we're only preparing a single example for the model, hence all values of pixel_mask will be 1."
      ]
    },
    {
      "cell_type": "code",
      "execution_count": null,
      "metadata": {
        "colab": {
          "base_uri": "https://localhost:8080/"
        },
        "id": "e2YHB41OXCSz",
        "outputId": "393cb431-a00a-45ca-83d3-de683ac31631"
      },
      "outputs": [],
      "source": [
        "# Create a VILT Encoding of the image and text\n",
        "\n",
        "encoding = processor(image, text, return_tensors=\"pt\")\n",
        "for k,v in encoding.items():\n",
        "  print(k, v.shape)"
      ]
    },
    {
      "cell_type": "markdown",
      "metadata": {
        "id": "bcOEF66KTOoQ"
      },
      "source": [
        "## Define model\n",
        "\n",
        "Here we load the ViLT model, fine-tuned on VQAv2, from the [hub](https://huggingface.co/dandelin/vilt-b32-finetuned-vqa)."
      ]
    },
    {
      "cell_type": "code",
      "execution_count": null,
      "metadata": {
        "colab": {
          "base_uri": "https://localhost:8080/",
          "height": 81,
          "referenced_widgets": [
            "b628aa9e268d4caaa8dfb560a79dd29e",
            "0ea2afc3b332468eb2dc084db002c28c",
            "2f2b7c118db7437a8336846c956f20e2",
            "68232443dbdf42ddb6e7ce75d3202230",
            "26878b9ca2e747e2bfede87320b64393",
            "fab08eaebf804f489e0a78c86cfd5730",
            "a643e00c7b3e45f59c9a0dae42ba0d1f",
            "55aa038d9ea8489abf90e62474f74629",
            "0649ec845e084a178c9868518c449808",
            "e48344f1af344ba39980d8736c632f0e",
            "f98636bed63d4192ae5b744548a9d8a2",
            "8cf1983f49b44df0a2dc395e672dfd2a",
            "6876e0c61e3c4c898eb3c90501b97890",
            "ac0db22d32b245358914217a0e4d6c2e",
            "51bc4032a01b4fa6b7641f9bbaad742a",
            "97b15f0f29bf4b79b51fda9aa6d90eb3",
            "b996c554a9324b778d1e8fd853de2db0",
            "b31b3b9f03c840f38fae7b8009b8dca7",
            "841b6f5285e44afd847cb0a112e4f7e1",
            "e71da9ebd7ef4fc9937320380c4ce204",
            "ba6bfaa323e749289462acd8911ae35e",
            "4633a3f28af94a1d8efd8574b596b608"
          ]
        },
        "id": "qC9deOrxTPk7",
        "outputId": "fc9a5516-70b0-4895-9c32-5c64397ef609"
      },
      "outputs": [],
      "source": [
        "from transformers import ViltForQuestionAnswering \n",
        "\n",
        "model = ViltForQuestionAnswering.from_pretrained(\"dandelin/vilt-b32-finetuned-vqa\")"
      ]
    },
    {
      "cell_type": "markdown",
      "metadata": {
        "id": "Q_CiDPupWJll"
      },
      "source": [
        "## Forward pass\n",
        "\n",
        "We can now forward both the `input_ids` and `pixel_values` through the model. The model outputs logits of shape (batch_size, num_labels), which in this case will be (1, 3129) - as the VQAv2 dataset has 3129 possible answers."
      ]
    },
    {
      "cell_type": "code",
      "execution_count": null,
      "metadata": {
        "colab": {
          "base_uri": "https://localhost:8080/"
        },
        "id": "5cS9MS7t_rz2",
        "outputId": "2934045f-69c5-4fad-a54d-ea77f5e0a68a"
      },
      "outputs": [],
      "source": [
        "# forward pass\n",
        "outputs = model(**encoding)\n",
        "logits = outputs.logits\n",
        "idx = torch.sigmoid(logits).argmax(-1).item() # apply activation\n",
        "print(\"Predicted answer:\", model.config.id2label[idx])"
      ]
    },
    {
      "cell_type": "code",
      "execution_count": null,
      "metadata": {
        "id": "eTEyjLn2gdlH"
      },
      "outputs": [],
      "source": [
        "# Cell to compute average inference time\n",
        "\n",
        "starting_time = time.time()\n",
        "image_url = \"http://images.cocodataset.org/val2017/000000039769.jpg\"\n",
        "image = Image.open(requests.get(image_url, stream=True).raw)\n",
        "text = \"Where is the car?\"\n",
        "encoding = processor(image, text, return_tensors=\"pt\")\n",
        "for k, v in encoding.items():\n",
        "  print(k, v.shape)\n",
        "\n",
        "# forward pass\n",
        "outputs = model(**encoding)\n",
        "logits = outputs.logits\n",
        "idx = torch.sigmoid(logits).argmax(-1).item()\n",
        "print(\"Time taken:\", time.time() - starting_time)\n",
        "print(\"Predicted answer:\", model.config.id2label[idx])"
      ]
    },
    {
      "cell_type": "code",
      "execution_count": null,
      "metadata": {
        "colab": {
          "base_uri": "https://localhost:8080/"
        },
        "id": "DiOEShFPnM_F",
        "outputId": "42d5b78f-ee3b-4b31-afb7-35bcbb0254df"
      },
      "outputs": [],
      "source": [
        "# print out logits info\n",
        "logits.shape\n",
        "logits[0,:3]"
      ]
    }
  ],
  "metadata": {
    "colab": {
      "name": "Inference with ViLT (visual question answering).ipynb",
      "provenance": []
    },
    "kernelspec": {
      "display_name": "native",
      "language": "python",
      "name": "python3"
    },
    "language_info": {
      "codemirror_mode": {
        "name": "ipython",
        "version": 3
      },
      "file_extension": ".py",
      "mimetype": "text/x-python",
      "name": "python",
      "nbconvert_exporter": "python",
      "pygments_lexer": "ipython3",
      "version": "3.10.8"
    },
    "vscode": {
      "interpreter": {
        "hash": "947be841c4fd265da7c79b59b9447d477c4dc10808b5ea255915caa7ac6bc46a"
      }
    },
    "widgets": {
      "application/vnd.jupyter.widget-state+json": {
        "0649ec845e084a178c9868518c449808": {
          "model_module": "@jupyter-widgets/base",
          "model_module_version": "1.2.0",
          "model_name": "LayoutModel",
          "state": {
            "_model_module": "@jupyter-widgets/base",
            "_model_module_version": "1.2.0",
            "_model_name": "LayoutModel",
            "_view_count": null,
            "_view_module": "@jupyter-widgets/base",
            "_view_module_version": "1.2.0",
            "_view_name": "LayoutView",
            "align_content": null,
            "align_items": null,
            "align_self": null,
            "border": null,
            "bottom": null,
            "display": null,
            "flex": null,
            "flex_flow": null,
            "grid_area": null,
            "grid_auto_columns": null,
            "grid_auto_flow": null,
            "grid_auto_rows": null,
            "grid_column": null,
            "grid_gap": null,
            "grid_row": null,
            "grid_template_areas": null,
            "grid_template_columns": null,
            "grid_template_rows": null,
            "height": null,
            "justify_content": null,
            "justify_items": null,
            "left": null,
            "margin": null,
            "max_height": null,
            "max_width": null,
            "min_height": null,
            "min_width": null,
            "object_fit": null,
            "object_position": null,
            "order": null,
            "overflow": null,
            "overflow_x": null,
            "overflow_y": null,
            "padding": null,
            "right": null,
            "top": null,
            "visibility": null,
            "width": null
          }
        },
        "0ea2afc3b332468eb2dc084db002c28c": {
          "model_module": "@jupyter-widgets/base",
          "model_module_version": "1.2.0",
          "model_name": "LayoutModel",
          "state": {
            "_model_module": "@jupyter-widgets/base",
            "_model_module_version": "1.2.0",
            "_model_name": "LayoutModel",
            "_view_count": null,
            "_view_module": "@jupyter-widgets/base",
            "_view_module_version": "1.2.0",
            "_view_name": "LayoutView",
            "align_content": null,
            "align_items": null,
            "align_self": null,
            "border": null,
            "bottom": null,
            "display": null,
            "flex": null,
            "flex_flow": null,
            "grid_area": null,
            "grid_auto_columns": null,
            "grid_auto_flow": null,
            "grid_auto_rows": null,
            "grid_column": null,
            "grid_gap": null,
            "grid_row": null,
            "grid_template_areas": null,
            "grid_template_columns": null,
            "grid_template_rows": null,
            "height": null,
            "justify_content": null,
            "justify_items": null,
            "left": null,
            "margin": null,
            "max_height": null,
            "max_width": null,
            "min_height": null,
            "min_width": null,
            "object_fit": null,
            "object_position": null,
            "order": null,
            "overflow": null,
            "overflow_x": null,
            "overflow_y": null,
            "padding": null,
            "right": null,
            "top": null,
            "visibility": null,
            "width": null
          }
        },
        "26878b9ca2e747e2bfede87320b64393": {
          "model_module": "@jupyter-widgets/controls",
          "model_module_version": "1.5.0",
          "model_name": "HTMLModel",
          "state": {
            "_dom_classes": [],
            "_model_module": "@jupyter-widgets/controls",
            "_model_module_version": "1.5.0",
            "_model_name": "HTMLModel",
            "_view_count": null,
            "_view_module": "@jupyter-widgets/controls",
            "_view_module_version": "1.5.0",
            "_view_name": "HTMLView",
            "description": "",
            "description_tooltip": null,
            "layout": "IPY_MODEL_f98636bed63d4192ae5b744548a9d8a2",
            "placeholder": "​",
            "style": "IPY_MODEL_e48344f1af344ba39980d8736c632f0e",
            "value": " 132k/132k [00:00&lt;00:00, 296kB/s]"
          }
        },
        "2f2b7c118db7437a8336846c956f20e2": {
          "model_module": "@jupyter-widgets/controls",
          "model_module_version": "1.5.0",
          "model_name": "HTMLModel",
          "state": {
            "_dom_classes": [],
            "_model_module": "@jupyter-widgets/controls",
            "_model_module_version": "1.5.0",
            "_model_name": "HTMLModel",
            "_view_count": null,
            "_view_module": "@jupyter-widgets/controls",
            "_view_module_version": "1.5.0",
            "_view_name": "HTMLView",
            "description": "",
            "description_tooltip": null,
            "layout": "IPY_MODEL_a643e00c7b3e45f59c9a0dae42ba0d1f",
            "placeholder": "​",
            "style": "IPY_MODEL_fab08eaebf804f489e0a78c86cfd5730",
            "value": "Downloading: 100%"
          }
        },
        "4633a3f28af94a1d8efd8574b596b608": {
          "model_module": "@jupyter-widgets/base",
          "model_module_version": "1.2.0",
          "model_name": "LayoutModel",
          "state": {
            "_model_module": "@jupyter-widgets/base",
            "_model_module_version": "1.2.0",
            "_model_name": "LayoutModel",
            "_view_count": null,
            "_view_module": "@jupyter-widgets/base",
            "_view_module_version": "1.2.0",
            "_view_name": "LayoutView",
            "align_content": null,
            "align_items": null,
            "align_self": null,
            "border": null,
            "bottom": null,
            "display": null,
            "flex": null,
            "flex_flow": null,
            "grid_area": null,
            "grid_auto_columns": null,
            "grid_auto_flow": null,
            "grid_auto_rows": null,
            "grid_column": null,
            "grid_gap": null,
            "grid_row": null,
            "grid_template_areas": null,
            "grid_template_columns": null,
            "grid_template_rows": null,
            "height": null,
            "justify_content": null,
            "justify_items": null,
            "left": null,
            "margin": null,
            "max_height": null,
            "max_width": null,
            "min_height": null,
            "min_width": null,
            "object_fit": null,
            "object_position": null,
            "order": null,
            "overflow": null,
            "overflow_x": null,
            "overflow_y": null,
            "padding": null,
            "right": null,
            "top": null,
            "visibility": null,
            "width": null
          }
        },
        "51bc4032a01b4fa6b7641f9bbaad742a": {
          "model_module": "@jupyter-widgets/controls",
          "model_module_version": "1.5.0",
          "model_name": "FloatProgressModel",
          "state": {
            "_dom_classes": [],
            "_model_module": "@jupyter-widgets/controls",
            "_model_module_version": "1.5.0",
            "_model_name": "FloatProgressModel",
            "_view_count": null,
            "_view_module": "@jupyter-widgets/controls",
            "_view_module_version": "1.5.0",
            "_view_name": "ProgressView",
            "bar_style": "success",
            "description": "",
            "description_tooltip": null,
            "layout": "IPY_MODEL_e71da9ebd7ef4fc9937320380c4ce204",
            "max": 470435927,
            "min": 0,
            "orientation": "horizontal",
            "style": "IPY_MODEL_841b6f5285e44afd847cb0a112e4f7e1",
            "value": 470435927
          }
        },
        "55aa038d9ea8489abf90e62474f74629": {
          "model_module": "@jupyter-widgets/controls",
          "model_module_version": "1.5.0",
          "model_name": "ProgressStyleModel",
          "state": {
            "_model_module": "@jupyter-widgets/controls",
            "_model_module_version": "1.5.0",
            "_model_name": "ProgressStyleModel",
            "_view_count": null,
            "_view_module": "@jupyter-widgets/base",
            "_view_module_version": "1.2.0",
            "_view_name": "StyleView",
            "bar_color": null,
            "description_width": ""
          }
        },
        "68232443dbdf42ddb6e7ce75d3202230": {
          "model_module": "@jupyter-widgets/controls",
          "model_module_version": "1.5.0",
          "model_name": "FloatProgressModel",
          "state": {
            "_dom_classes": [],
            "_model_module": "@jupyter-widgets/controls",
            "_model_module_version": "1.5.0",
            "_model_name": "FloatProgressModel",
            "_view_count": null,
            "_view_module": "@jupyter-widgets/controls",
            "_view_module_version": "1.5.0",
            "_view_name": "ProgressView",
            "bar_style": "success",
            "description": "",
            "description_tooltip": null,
            "layout": "IPY_MODEL_0649ec845e084a178c9868518c449808",
            "max": 135543,
            "min": 0,
            "orientation": "horizontal",
            "style": "IPY_MODEL_55aa038d9ea8489abf90e62474f74629",
            "value": 135543
          }
        },
        "6876e0c61e3c4c898eb3c90501b97890": {
          "model_module": "@jupyter-widgets/base",
          "model_module_version": "1.2.0",
          "model_name": "LayoutModel",
          "state": {
            "_model_module": "@jupyter-widgets/base",
            "_model_module_version": "1.2.0",
            "_model_name": "LayoutModel",
            "_view_count": null,
            "_view_module": "@jupyter-widgets/base",
            "_view_module_version": "1.2.0",
            "_view_name": "LayoutView",
            "align_content": null,
            "align_items": null,
            "align_self": null,
            "border": null,
            "bottom": null,
            "display": null,
            "flex": null,
            "flex_flow": null,
            "grid_area": null,
            "grid_auto_columns": null,
            "grid_auto_flow": null,
            "grid_auto_rows": null,
            "grid_column": null,
            "grid_gap": null,
            "grid_row": null,
            "grid_template_areas": null,
            "grid_template_columns": null,
            "grid_template_rows": null,
            "height": null,
            "justify_content": null,
            "justify_items": null,
            "left": null,
            "margin": null,
            "max_height": null,
            "max_width": null,
            "min_height": null,
            "min_width": null,
            "object_fit": null,
            "object_position": null,
            "order": null,
            "overflow": null,
            "overflow_x": null,
            "overflow_y": null,
            "padding": null,
            "right": null,
            "top": null,
            "visibility": null,
            "width": null
          }
        },
        "841b6f5285e44afd847cb0a112e4f7e1": {
          "model_module": "@jupyter-widgets/controls",
          "model_module_version": "1.5.0",
          "model_name": "ProgressStyleModel",
          "state": {
            "_model_module": "@jupyter-widgets/controls",
            "_model_module_version": "1.5.0",
            "_model_name": "ProgressStyleModel",
            "_view_count": null,
            "_view_module": "@jupyter-widgets/base",
            "_view_module_version": "1.2.0",
            "_view_name": "StyleView",
            "bar_color": null,
            "description_width": ""
          }
        },
        "8cf1983f49b44df0a2dc395e672dfd2a": {
          "model_module": "@jupyter-widgets/controls",
          "model_module_version": "1.5.0",
          "model_name": "HBoxModel",
          "state": {
            "_dom_classes": [],
            "_model_module": "@jupyter-widgets/controls",
            "_model_module_version": "1.5.0",
            "_model_name": "HBoxModel",
            "_view_count": null,
            "_view_module": "@jupyter-widgets/controls",
            "_view_module_version": "1.5.0",
            "_view_name": "HBoxView",
            "box_style": "",
            "children": [
              "IPY_MODEL_ac0db22d32b245358914217a0e4d6c2e",
              "IPY_MODEL_51bc4032a01b4fa6b7641f9bbaad742a",
              "IPY_MODEL_97b15f0f29bf4b79b51fda9aa6d90eb3"
            ],
            "layout": "IPY_MODEL_6876e0c61e3c4c898eb3c90501b97890"
          }
        },
        "97b15f0f29bf4b79b51fda9aa6d90eb3": {
          "model_module": "@jupyter-widgets/controls",
          "model_module_version": "1.5.0",
          "model_name": "HTMLModel",
          "state": {
            "_dom_classes": [],
            "_model_module": "@jupyter-widgets/controls",
            "_model_module_version": "1.5.0",
            "_model_name": "HTMLModel",
            "_view_count": null,
            "_view_module": "@jupyter-widgets/controls",
            "_view_module_version": "1.5.0",
            "_view_name": "HTMLView",
            "description": "",
            "description_tooltip": null,
            "layout": "IPY_MODEL_4633a3f28af94a1d8efd8574b596b608",
            "placeholder": "​",
            "style": "IPY_MODEL_ba6bfaa323e749289462acd8911ae35e",
            "value": " 449M/449M [00:45&lt;00:00, 14.9MB/s]"
          }
        },
        "a643e00c7b3e45f59c9a0dae42ba0d1f": {
          "model_module": "@jupyter-widgets/base",
          "model_module_version": "1.2.0",
          "model_name": "LayoutModel",
          "state": {
            "_model_module": "@jupyter-widgets/base",
            "_model_module_version": "1.2.0",
            "_model_name": "LayoutModel",
            "_view_count": null,
            "_view_module": "@jupyter-widgets/base",
            "_view_module_version": "1.2.0",
            "_view_name": "LayoutView",
            "align_content": null,
            "align_items": null,
            "align_self": null,
            "border": null,
            "bottom": null,
            "display": null,
            "flex": null,
            "flex_flow": null,
            "grid_area": null,
            "grid_auto_columns": null,
            "grid_auto_flow": null,
            "grid_auto_rows": null,
            "grid_column": null,
            "grid_gap": null,
            "grid_row": null,
            "grid_template_areas": null,
            "grid_template_columns": null,
            "grid_template_rows": null,
            "height": null,
            "justify_content": null,
            "justify_items": null,
            "left": null,
            "margin": null,
            "max_height": null,
            "max_width": null,
            "min_height": null,
            "min_width": null,
            "object_fit": null,
            "object_position": null,
            "order": null,
            "overflow": null,
            "overflow_x": null,
            "overflow_y": null,
            "padding": null,
            "right": null,
            "top": null,
            "visibility": null,
            "width": null
          }
        },
        "ac0db22d32b245358914217a0e4d6c2e": {
          "model_module": "@jupyter-widgets/controls",
          "model_module_version": "1.5.0",
          "model_name": "HTMLModel",
          "state": {
            "_dom_classes": [],
            "_model_module": "@jupyter-widgets/controls",
            "_model_module_version": "1.5.0",
            "_model_name": "HTMLModel",
            "_view_count": null,
            "_view_module": "@jupyter-widgets/controls",
            "_view_module_version": "1.5.0",
            "_view_name": "HTMLView",
            "description": "",
            "description_tooltip": null,
            "layout": "IPY_MODEL_b31b3b9f03c840f38fae7b8009b8dca7",
            "placeholder": "​",
            "style": "IPY_MODEL_b996c554a9324b778d1e8fd853de2db0",
            "value": "Downloading: 100%"
          }
        },
        "b31b3b9f03c840f38fae7b8009b8dca7": {
          "model_module": "@jupyter-widgets/base",
          "model_module_version": "1.2.0",
          "model_name": "LayoutModel",
          "state": {
            "_model_module": "@jupyter-widgets/base",
            "_model_module_version": "1.2.0",
            "_model_name": "LayoutModel",
            "_view_count": null,
            "_view_module": "@jupyter-widgets/base",
            "_view_module_version": "1.2.0",
            "_view_name": "LayoutView",
            "align_content": null,
            "align_items": null,
            "align_self": null,
            "border": null,
            "bottom": null,
            "display": null,
            "flex": null,
            "flex_flow": null,
            "grid_area": null,
            "grid_auto_columns": null,
            "grid_auto_flow": null,
            "grid_auto_rows": null,
            "grid_column": null,
            "grid_gap": null,
            "grid_row": null,
            "grid_template_areas": null,
            "grid_template_columns": null,
            "grid_template_rows": null,
            "height": null,
            "justify_content": null,
            "justify_items": null,
            "left": null,
            "margin": null,
            "max_height": null,
            "max_width": null,
            "min_height": null,
            "min_width": null,
            "object_fit": null,
            "object_position": null,
            "order": null,
            "overflow": null,
            "overflow_x": null,
            "overflow_y": null,
            "padding": null,
            "right": null,
            "top": null,
            "visibility": null,
            "width": null
          }
        },
        "b628aa9e268d4caaa8dfb560a79dd29e": {
          "model_module": "@jupyter-widgets/controls",
          "model_module_version": "1.5.0",
          "model_name": "HBoxModel",
          "state": {
            "_dom_classes": [],
            "_model_module": "@jupyter-widgets/controls",
            "_model_module_version": "1.5.0",
            "_model_name": "HBoxModel",
            "_view_count": null,
            "_view_module": "@jupyter-widgets/controls",
            "_view_module_version": "1.5.0",
            "_view_name": "HBoxView",
            "box_style": "",
            "children": [
              "IPY_MODEL_2f2b7c118db7437a8336846c956f20e2",
              "IPY_MODEL_68232443dbdf42ddb6e7ce75d3202230",
              "IPY_MODEL_26878b9ca2e747e2bfede87320b64393"
            ],
            "layout": "IPY_MODEL_0ea2afc3b332468eb2dc084db002c28c"
          }
        },
        "b996c554a9324b778d1e8fd853de2db0": {
          "model_module": "@jupyter-widgets/controls",
          "model_module_version": "1.5.0",
          "model_name": "DescriptionStyleModel",
          "state": {
            "_model_module": "@jupyter-widgets/controls",
            "_model_module_version": "1.5.0",
            "_model_name": "DescriptionStyleModel",
            "_view_count": null,
            "_view_module": "@jupyter-widgets/base",
            "_view_module_version": "1.2.0",
            "_view_name": "StyleView",
            "description_width": ""
          }
        },
        "ba6bfaa323e749289462acd8911ae35e": {
          "model_module": "@jupyter-widgets/controls",
          "model_module_version": "1.5.0",
          "model_name": "DescriptionStyleModel",
          "state": {
            "_model_module": "@jupyter-widgets/controls",
            "_model_module_version": "1.5.0",
            "_model_name": "DescriptionStyleModel",
            "_view_count": null,
            "_view_module": "@jupyter-widgets/base",
            "_view_module_version": "1.2.0",
            "_view_name": "StyleView",
            "description_width": ""
          }
        },
        "e48344f1af344ba39980d8736c632f0e": {
          "model_module": "@jupyter-widgets/controls",
          "model_module_version": "1.5.0",
          "model_name": "DescriptionStyleModel",
          "state": {
            "_model_module": "@jupyter-widgets/controls",
            "_model_module_version": "1.5.0",
            "_model_name": "DescriptionStyleModel",
            "_view_count": null,
            "_view_module": "@jupyter-widgets/base",
            "_view_module_version": "1.2.0",
            "_view_name": "StyleView",
            "description_width": ""
          }
        },
        "e71da9ebd7ef4fc9937320380c4ce204": {
          "model_module": "@jupyter-widgets/base",
          "model_module_version": "1.2.0",
          "model_name": "LayoutModel",
          "state": {
            "_model_module": "@jupyter-widgets/base",
            "_model_module_version": "1.2.0",
            "_model_name": "LayoutModel",
            "_view_count": null,
            "_view_module": "@jupyter-widgets/base",
            "_view_module_version": "1.2.0",
            "_view_name": "LayoutView",
            "align_content": null,
            "align_items": null,
            "align_self": null,
            "border": null,
            "bottom": null,
            "display": null,
            "flex": null,
            "flex_flow": null,
            "grid_area": null,
            "grid_auto_columns": null,
            "grid_auto_flow": null,
            "grid_auto_rows": null,
            "grid_column": null,
            "grid_gap": null,
            "grid_row": null,
            "grid_template_areas": null,
            "grid_template_columns": null,
            "grid_template_rows": null,
            "height": null,
            "justify_content": null,
            "justify_items": null,
            "left": null,
            "margin": null,
            "max_height": null,
            "max_width": null,
            "min_height": null,
            "min_width": null,
            "object_fit": null,
            "object_position": null,
            "order": null,
            "overflow": null,
            "overflow_x": null,
            "overflow_y": null,
            "padding": null,
            "right": null,
            "top": null,
            "visibility": null,
            "width": null
          }
        },
        "f98636bed63d4192ae5b744548a9d8a2": {
          "model_module": "@jupyter-widgets/base",
          "model_module_version": "1.2.0",
          "model_name": "LayoutModel",
          "state": {
            "_model_module": "@jupyter-widgets/base",
            "_model_module_version": "1.2.0",
            "_model_name": "LayoutModel",
            "_view_count": null,
            "_view_module": "@jupyter-widgets/base",
            "_view_module_version": "1.2.0",
            "_view_name": "LayoutView",
            "align_content": null,
            "align_items": null,
            "align_self": null,
            "border": null,
            "bottom": null,
            "display": null,
            "flex": null,
            "flex_flow": null,
            "grid_area": null,
            "grid_auto_columns": null,
            "grid_auto_flow": null,
            "grid_auto_rows": null,
            "grid_column": null,
            "grid_gap": null,
            "grid_row": null,
            "grid_template_areas": null,
            "grid_template_columns": null,
            "grid_template_rows": null,
            "height": null,
            "justify_content": null,
            "justify_items": null,
            "left": null,
            "margin": null,
            "max_height": null,
            "max_width": null,
            "min_height": null,
            "min_width": null,
            "object_fit": null,
            "object_position": null,
            "order": null,
            "overflow": null,
            "overflow_x": null,
            "overflow_y": null,
            "padding": null,
            "right": null,
            "top": null,
            "visibility": null,
            "width": null
          }
        },
        "fab08eaebf804f489e0a78c86cfd5730": {
          "model_module": "@jupyter-widgets/controls",
          "model_module_version": "1.5.0",
          "model_name": "DescriptionStyleModel",
          "state": {
            "_model_module": "@jupyter-widgets/controls",
            "_model_module_version": "1.5.0",
            "_model_name": "DescriptionStyleModel",
            "_view_count": null,
            "_view_module": "@jupyter-widgets/base",
            "_view_module_version": "1.2.0",
            "_view_name": "StyleView",
            "description_width": ""
          }
        }
      }
    }
  },
  "nbformat": 4,
  "nbformat_minor": 0
}
