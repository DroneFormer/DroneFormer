{
 "cells": [
  {
   "cell_type": "code",
   "execution_count": null,
   "metadata": {},
   "outputs": [],
   "source": [
    "# Import Required Packages\n",
    "from djitellopy import Tello\n",
    "from threading import Thread\n",
    "import cv2\n",
    "import time\n",
    "import sys\n",
    "import os\n",
    "\n",
    "# Configure Packages\n",
    "module_path = os.path.abspath(os.path.join('..'))\n",
    "if module_path not in sys.path:\n",
    "    sys.path.append(module_path+\"/Scripts/\")\n",
    "\n",
    "from data_collection_utils import take_individual_picture, stream_video, stream_frames, record_streamed_frames\n",
    "from video_test_flight import flight\n",
    "\n",
    "print(\"All Required Packages are Imported.\")"
   ]
  },
  {
   "cell_type": "code",
   "execution_count": null,
   "metadata": {},
   "outputs": [],
   "source": [
    "# Connect Drone\n",
    "drone = Tello()\n",
    "drone.connect()"
   ]
  },
  {
   "cell_type": "code",
   "execution_count": null,
   "metadata": {},
   "outputs": [],
   "source": [
    "# Print Battery Level\n",
    "drone.get_battery()"
   ]
  },
  {
   "cell_type": "code",
   "execution_count": null,
   "metadata": {},
   "outputs": [],
   "source": [
    "# Test Data Stream - Collect One Individual Image\n",
    "take_individual_picture(drone)"
   ]
  },
  {
   "cell_type": "code",
   "execution_count": null,
   "metadata": {},
   "outputs": [],
   "source": [
    "# Ensure that we can connect to an internet API at the same time that the drone is operating\n",
    "import requests\n",
    "requests.get(\"http://news.yahoo.com\")"
   ]
  }
 ],
 "metadata": {
  "kernelspec": {
   "display_name": "Python 3",
   "language": "python",
   "name": "python3"
  },
  "language_info": {
   "name": "python",
   "version": "3.11.1"
  },
  "orig_nbformat": 4,
  "vscode": {
   "interpreter": {
    "hash": "5c7b89af1651d0b8571dde13640ecdccf7d5a6204171d6ab33e7c296e100e08a"
   }
  }
 },
 "nbformat": 4,
 "nbformat_minor": 2
}
