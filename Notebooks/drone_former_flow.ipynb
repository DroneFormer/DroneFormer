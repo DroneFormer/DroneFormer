{
 "cells": [
  {
   "cell_type": "code",
   "execution_count": 1,
   "metadata": {},
   "outputs": [
    {
     "name": "stdout",
     "output_type": "stream",
     "text": [
      "Imported all modules\n"
     ]
    }
   ],
   "source": [
    "import time, cv2, sys, os, torch\n",
    "from threading import Thread\n",
    "from djitellopy import Tello\n",
    "import openai\n",
    "import re\n",
    "import torch\n",
    "import time\n",
    "\n",
    "# url to CV2 image\n",
    "import urllib.request\n",
    "import numpy as np\n",
    "import cv2\n",
    "\n",
    "\n",
    "# load environment variables\n",
    "from dotenv import load_dotenv\n",
    "load_dotenv()\n",
    "\n",
    "openai.api_key = os.getenv(\"OPENAI_API_KEY\")\n",
    "\n",
    "module_path = os.path.abspath(os.path.join('..'))\n",
    "if module_path not in sys.path:\n",
    "    sys.path.append(module_path+\"/prompts/\")\n",
    "\n",
    "from vqa_question.v1 import prompt_template as vqa_prompt_template\n",
    "from drone_explore_prompt import prompt_template as explore_template\n",
    "from drone_next_action.v1 import prompt_template as drone_prompt_template\n",
    "\n",
    "module_path = os.path.abspath(os.path.join('..'))\n",
    "if module_path not in sys.path:\n",
    "    sys.path.append(module_path+\"/Scripts/\")\n",
    "\n",
    "from data_collection_utils import take_individual_picture, stream_video, stream_frames, record_streamed_frames\n",
    "\n",
    "print(\"Imported all modules\")\n"
   ]
  },
  {
   "cell_type": "code",
   "execution_count": 2,
   "metadata": {},
   "outputs": [],
   "source": [
    "from ultralytics import YOLO\n",
    "\n",
    "model = YOLO('yolov8n.pt')\n",
    "# pred = model.predict('https://ultralytics.com/images/zidane.jpg')\n"
   ]
  },
  {
   "cell_type": "code",
   "execution_count": 3,
   "metadata": {},
   "outputs": [],
   "source": [
    "def get_coords(obj_name, img_url, verbose=True): # obj_name must be a valid YOLO class\n",
    "    start_time = time.time()\n",
    "    pred = model(img_url)\n",
    "    \n",
    "    if verbose:\n",
    "        print(pred)\n",
    "        # pred.show()\n",
    "\n",
    "    # get bouning box coordinates for object\n",
    "    classes = pred[0].boxes.cls\n",
    "\n",
    "    idx_to_name = pred[0].names\n",
    "\n",
    "    names = [idx_to_name[int(i)] for i in classes]\n",
    "    if obj_name not in names:\n",
    "        if verbose:\n",
    "            print(names)\n",
    "        print(time.time() - start_time, 'seconds elapsed')\n",
    "        \n",
    "        return None, None\n",
    "    idx_obj = names.index(obj_name)\n",
    "    coords = pred[0].boxes.xyxy[idx_obj]\n",
    "    if verbose:\n",
    "        print(names)\n",
    "    print(time.time() - start_time, 'seconds elapsed')\n",
    "    return (int(coords[0].item()), int(coords[1].item())), (int(coords[2].item()), int(coords[3].item()))\n",
    "    \n",
    "\n",
    "    # classes = pred[0].boxes.cls\n",
    "    \n",
    "    # idx_to_name = pred[0].names\n",
    "\n",
    "    # names = [idx_to_name[int(i)] for i in classes]\n",
    "    # if obj_name not in names:\n",
    "    #     if verbose:\n",
    "    #         print(names)\n",
    "    #     print(time.time() - start_time, 'seconds elapsed')\n",
    "    #     return None\n",
    "    # idx_obj = names.index(obj_name)\n",
    "    # coords = pred[0].boxes.xyxy[idx_obj]\n",
    "    # if verbose:\n",
    "    #     print(names)\n",
    "    # print(time.time() - start_time, 'seconds elapsed')\n",
    "    # return (coords[0], coords[1]), (coords[2], coords[3])"
   ]
  },
  {
   "cell_type": "code",
   "execution_count": 4,
   "metadata": {},
   "outputs": [],
   "source": [
    "# top_left, bottom_right = get_coords('person', 'https://ultralytics.com/images/zidane.jpg')"
   ]
  },
  {
   "cell_type": "code",
   "execution_count": 5,
   "metadata": {},
   "outputs": [],
   "source": [
    "# import logging \n",
    "# Tello.LOGGER.setLevel(logging.DEBUG)"
   ]
  },
  {
   "cell_type": "code",
   "execution_count": 6,
   "metadata": {},
   "outputs": [],
   "source": [
    "def plot_box(img, top_left, bottom_right):\n",
    "    # req = urllib.request.urlopen(img_url)\n",
    "    # arr = np.asarray(bytearray(req.read()), dtype=np.uint8)\n",
    "    # img = cv2.imdecode(arr, -1) # 'Load it as it is'\n",
    "    # cv2.imshow(\"something\", img)\n",
    "    rect = cv2.rectangle(img, top_left, bottom_right, (0, 255, 0), 2)\n",
    "    cv2.imshow(\"something\", rect)\n",
    "    cv2.waitKey(1)"
   ]
  },
  {
   "cell_type": "code",
   "execution_count": 7,
   "metadata": {},
   "outputs": [],
   "source": [
    "# plot_box(\"https://ultralytics.com/images/zidane.jpg\", top_left=top_left, bottom_right=bottom_right)"
   ]
  },
  {
   "cell_type": "code",
   "execution_count": 8,
   "metadata": {},
   "outputs": [
    {
     "name": "stderr",
     "output_type": "stream",
     "text": [
      "[INFO] tello.py - 122 - Tello instance was initialized. Host: '192.168.10.1'. Port: '8889'.\n",
      "[INFO] tello.py - 437 - Send command: 'command'\n",
      "[INFO] tello.py - 461 - Response command: 'ok'\n"
     ]
    }
   ],
   "source": [
    "drone = Tello()\n",
    "drone.connect()"
   ]
  },
  {
   "cell_type": "code",
   "execution_count": 9,
   "metadata": {},
   "outputs": [
    {
     "name": "stderr",
     "output_type": "stream",
     "text": [
      "[INFO] tello.py - 437 - Send command: 'streamon'\n",
      "[INFO] tello.py - 461 - Response streamon: 'ok'\n",
      "[h264 @ 0x7fa372e960c0] error while decoding MB 8 3, bytestream -5\n",
      "[h264 @ 0x7fa372e8b940] error while decoding MB 9 24, bytestream -6\n",
      "[h264 @ 0x7fa372e6c280] left block unavailable for requested intra mode\n",
      "[h264 @ 0x7fa372e6c280] error while decoding MB 0 26, bytestream 561\n",
      "Ultralytics YOLOv8.0.40 🚀 Python-3.9.13 torch-1.13.1 CPU\n",
      "[W NNPACK.cpp:53] Could not initialize NNPACK! Reason: Unsupported hardware.\n",
      "YOLOv8n summary (fused): 168 layers, 3151904 parameters, 0 gradients, 8.7 GFLOPs\n",
      "\n",
      "0: 448x640 2 persons, 1 bottle, 2 chairs, 276.3ms\n",
      "Speed: 2.0ms pre-process, 276.3ms inference, 8.7ms postprocess per image at shape (1, 3, 640, 640)\n"
     ]
    },
    {
     "name": "stdout",
     "output_type": "stream",
     "text": [
      "[Ultralytics YOLO <class 'ultralytics.yolo.engine.results.Boxes'> masks\n",
      "type: <class 'torch.Tensor'>\n",
      "shape: torch.Size([5, 6])\n",
      "dtype: torch.float32\n",
      " + tensor([[1.83000e+02, 1.40000e+01, 2.16000e+02, 1.03000e+02, 8.18590e-01, 3.90000e+01],\n",
      "        [1.60000e+02, 0.00000e+00, 3.59000e+02, 1.66000e+02, 6.47017e-01, 0.00000e+00],\n",
      "        [6.40000e+01, 5.00000e+00, 3.59000e+02, 1.39000e+02, 4.28061e-01, 0.00000e+00],\n",
      "        [0.00000e+00, 0.00000e+00, 9.20000e+01, 1.35000e+02, 3.31152e-01, 5.60000e+01],\n",
      "        [8.60000e+01, 0.00000e+00, 1.47000e+02, 5.60000e+01, 3.02267e-01, 5.60000e+01]])]\n",
      "['bottle', 'person', 'person', 'chair', 'chair']\n",
      "0.7374520301818848 seconds elapsed\n",
      "something found\n"
     ]
    },
    {
     "name": "stderr",
     "output_type": "stream",
     "text": [
      "[h264 @ 0x7fa372dcae00] error while decoding MB 0 38, bytestream -6\n",
      "[h264 @ 0x7fa372dcae00] error while decoding MB 55 18, bytestream -6\n",
      "[h264 @ 0x7fa372e76a00] error while decoding MB 22 44, bytestream -8\n",
      "[h264 @ 0x7fa372dcae00] error while decoding MB 27 20, bytestream -6\n",
      "[h264 @ 0x7fa372e8b940] error while decoding MB 28 35, bytestream -5\n",
      "[h264 @ 0x7fa372e960c0] error while decoding MB 45 36, bytestream -6\n",
      "[h264 @ 0x7fa372de5240] error while decoding MB 22 32, bytestream -8\n",
      "[h264 @ 0x7fa372e81180] left block unavailable for requested intra mode\n",
      "[h264 @ 0x7fa372e81180] error while decoding MB 0 34, bytestream 6478\n",
      "[h264 @ 0x7fa372e960c0] error while decoding MB 47 29, bytestream -6\n",
      "[h264 @ 0x7fa372dd0340] left block unavailable for requested intra mode\n",
      "[h264 @ 0x7fa372dd0340] error while decoding MB 0 42, bytestream 817\n",
      "[h264 @ 0x7fa372e81180] error while decoding MB 9 35, bytestream -6\n",
      "[h264 @ 0x7fa372e81180] left block unavailable for requested intra mode\n",
      "[h264 @ 0x7fa372e81180] error while decoding MB 0 21, bytestream 1453\n",
      "[h264 @ 0x7fa372de5240] error while decoding MB 28 29, bytestream -9\n",
      "[h264 @ 0x7fa372dcae00] left block unavailable for requested intra mode\n",
      "[h264 @ 0x7fa372dcae00] error while decoding MB 0 13, bytestream 1705\n",
      "[h264 @ 0x7fa372e81180] left block unavailable for requested intra mode\n",
      "[h264 @ 0x7fa372e81180] error while decoding MB 0 31, bytestream 1852\n",
      "[h264 @ 0x7fa372e76a00] error while decoding MB 22 16, bytestream -8\n",
      "[h264 @ 0x7fa372e76a00] error while decoding MB 56 21, bytestream -6\n",
      "[h264 @ 0x7fa372e8b940] error while decoding MB 20 32, bytestream -6\n",
      "[h264 @ 0x7fa372e960c0] error while decoding MB 33 37, bytestream -5\n",
      "[h264 @ 0x7fa372ddaac0] error while decoding MB 57 35, bytestream -6\n",
      "[h264 @ 0x7fa372ddaac0] error while decoding MB 23 35, bytestream -10\n",
      "[h264 @ 0x7fa372e81180] error while decoding MB 3 22, bytestream -6\n",
      "[h264 @ 0x7fa372dd0340] error while decoding MB 48 35, bytestream -5\n",
      "[h264 @ 0x7fa372ddaac0] left block unavailable for requested intra mode\n",
      "[h264 @ 0x7fa372ddaac0] error while decoding MB 0 42, bytestream 3484\n",
      "[h264 @ 0x7fa372de5240] error while decoding MB 55 35, bytestream -6\n",
      "[h264 @ 0x7fa372ddaac0] error while decoding MB 46 34, bytestream -5\n"
     ]
    }
   ],
   "source": [
    "# # Mission: Dr0n3 sees object and if it is what it was looking for, it will fly to it\n",
    "# drone.streamon()\n",
    "# time.sleep(5)\n",
    "# img = drone.get_frame_read().frame\n",
    "# # img = drone.get_frame_read().frame\n",
    "# img = cv2.resize(img, (360, 240))\n",
    "# # cv2.imshow(\"image\", img)\n",
    "# # cv2.waitKey(1)\n",
    "\n",
    "# top_left, bottom_right = get_coords(\"bottle\", img)\n",
    "# cv2.imshow(\"image\", img)\n",
    "# cv2.waitKey(1)\n",
    "# if top_left is not None:\n",
    "#     print(\"something found\")\n",
    "#     plot_box(img, top_left=top_left, bottom_right=bottom_right)\n",
    "drone.streamon()\n",
    "time.sleep(5)\n",
    "while True:\n",
    "    img = drone.get_frame_read().frame\n",
    "    img = cv2.resize(img, (360, 240))\n",
    "    top_left, bottom_right = get_coords(\"bottle\", img)\n",
    "    cv2.imshow(\"image\", img)\n",
    "    cv2.waitKey(1)\n",
    "    if top_left is not None:\n",
    "        print(\"Bottle Found!\")\n",
    "        plot_box(img, top_left=top_left, bottom_right=bottom_right)\n",
    "    time.sleep(2)\n",
    "    \n",
    "    \n"
   ]
  },
  {
   "cell_type": "code",
   "execution_count": 13,
   "metadata": {},
   "outputs": [
    {
     "data": {
      "text/plain": [
       "-1"
      ]
     },
     "execution_count": 13,
     "metadata": {},
     "output_type": "execute_result"
    },
    {
     "name": "stderr",
     "output_type": "stream",
     "text": [
      "[h264 @ 0x7f8d9b7075c0] error while decoding MB 37 19, bytestream -6\n",
      "[h264 @ 0x7f8dbbcdd900] error while decoding MB 22 39, bytestream -10\n",
      "[h264 @ 0x7f8dbbcf2840] error while decoding MB 55 38, bytestream -6\n",
      "[h264 @ 0x7f8dbdfee640] error while decoding MB 16 33, bytestream -6\n",
      "[h264 @ 0x7f8dbdff8dc0] error while decoding MB 19 34, bytestream -6\n",
      "[h264 @ 0x7f8dbbcf2840] error while decoding MB 2 39, bytestream -6\n",
      "[h264 @ 0x7f8dbbcdd900] error while decoding MB 2 44, bytestream -6\n",
      "[h264 @ 0x7f8dbdfee640] error while decoding MB 48 34, bytestream -6\n",
      "[h264 @ 0x7f8dbbcf2840] left block unavailable for requested intra mode\n",
      "[h264 @ 0x7f8dbbcf2840] error while decoding MB 0 31, bytestream 1474\n",
      "[h264 @ 0x7f8dbbcd3500] error while decoding MB 56 25, bytestream -6\n",
      "[h264 @ 0x7f8d9b7075c0] left block unavailable for requested intra mode\n",
      "[h264 @ 0x7f8d9b7075c0] error while decoding MB 0 29, bytestream 1491\n",
      "[h264 @ 0x7f8d9b71c4c0] error while decoding MB 16 23, bytestream -8\n",
      "[h264 @ 0x7f8dbbcf2840] error while decoding MB 54 35, bytestream -6\n",
      "[h264 @ 0x7f8dbbcf2840] error while decoding MB 3 39, bytestream -5\n",
      "[h264 @ 0x7f8dbbcdd900] error while decoding MB 15 35, bytestream -6\n",
      "[h264 @ 0x7f8dbdff8dc0] error while decoding MB 46 19, bytestream -6\n",
      "[h264 @ 0x7f8dbbcd3500] left block unavailable for requested intra mode\n",
      "[h264 @ 0x7f8dbbcd3500] error while decoding MB 0 23, bytestream 1249\n",
      "[h264 @ 0x7f8dbdfee640] error while decoding MB 16 38, bytestream -6\n",
      "[h264 @ 0x7f8d9b71c4c0] error while decoding MB 47 39, bytestream -6\n",
      "[h264 @ 0x7f8dbbcd3500] error while decoding MB 21 20, bytestream -6\n",
      "[h264 @ 0x7f8dbbcdd900] error while decoding MB 8 34, bytestream -6\n",
      "[h264 @ 0x7f8dbbce8080] error while decoding MB 51 40, bytestream -7\n"
     ]
    }
   ],
   "source": [
    "cv2.imshow('a', img)\n",
    "cv2.waitKey(1)"
   ]
  },
  {
   "cell_type": "code",
   "execution_count": 10,
   "metadata": {},
   "outputs": [],
   "source": [
    "# !pip freeze > requirements.txt"
   ]
  },
  {
   "cell_type": "code",
   "execution_count": 86,
   "metadata": {},
   "outputs": [],
   "source": [
    "from transformers import ViltProcessor, ViltForQuestionAnswering\n",
    "\n",
    "processor = ViltProcessor.from_pretrained(\"dandelin/vilt-b32-finetuned-vqa\")\n",
    "model = ViltForQuestionAnswering.from_pretrained(\"dandelin/vilt-b32-finetuned-vqa\")"
   ]
  },
  {
   "cell_type": "code",
   "execution_count": 4,
   "metadata": {},
   "outputs": [
    {
     "name": "stderr",
     "output_type": "stream",
     "text": [
      "[INFO] tello.py - 122 - Tello instance was initialized. Host: '192.168.10.1'. Port: '8889'.\n"
     ]
    }
   ],
   "source": []
  },
  {
   "cell_type": "code",
   "execution_count": 5,
   "metadata": {},
   "outputs": [
    {
     "name": "stderr",
     "output_type": "stream",
     "text": [
      "[INFO] tello.py - 437 - Send command: 'command'\n",
      "[WARNING] tello.py - 447 - Aborting command 'command'. Did not receive a response after 7 seconds\n",
      "[INFO] tello.py - 437 - Send command: 'command'\n",
      "[WARNING] tello.py - 447 - Aborting command 'command'. Did not receive a response after 7 seconds\n",
      "[INFO] tello.py - 437 - Send command: 'command'\n",
      "[WARNING] tello.py - 447 - Aborting command 'command'. Did not receive a response after 7 seconds\n"
     ]
    },
    {
     "ename": "Exception",
     "evalue": "Command 'command' was unsuccessful for 4 tries. Latest response:\t'Aborting command 'command'. Did not receive a response after 7 seconds'",
     "output_type": "error",
     "traceback": [
      "\u001b[0;31m---------------------------------------------------------------------------\u001b[0m",
      "\u001b[0;31mException\u001b[0m                                 Traceback (most recent call last)",
      "Cell \u001b[0;32mIn[5], line 1\u001b[0m\n\u001b[0;32m----> 1\u001b[0m drone\u001b[39m.\u001b[39;49mconnect()\n",
      "File \u001b[0;32m~/anaconda3/envs/droneformer/lib/python3.10/site-packages/djitellopy/enforce_types.py:54\u001b[0m, in \u001b[0;36menforce_types.<locals>.decorate.<locals>.wrapper\u001b[0;34m(*args, **kwargs)\u001b[0m\n\u001b[1;32m     51\u001b[0m \u001b[39m@wraps\u001b[39m(func)\n\u001b[1;32m     52\u001b[0m \u001b[39mdef\u001b[39;00m \u001b[39mwrapper\u001b[39m(\u001b[39m*\u001b[39margs, \u001b[39m*\u001b[39m\u001b[39m*\u001b[39mkwargs):\n\u001b[1;32m     53\u001b[0m     check_types(spec, \u001b[39m*\u001b[39margs, \u001b[39m*\u001b[39m\u001b[39m*\u001b[39mkwargs)\n\u001b[0;32m---> 54\u001b[0m     \u001b[39mreturn\u001b[39;00m func(\u001b[39m*\u001b[39;49margs, \u001b[39m*\u001b[39;49m\u001b[39m*\u001b[39;49mkwargs)\n",
      "File \u001b[0;32m~/anaconda3/envs/droneformer/lib/python3.10/site-packages/djitellopy/tello.py:534\u001b[0m, in \u001b[0;36mTello.connect\u001b[0;34m(self, wait_for_state)\u001b[0m\n\u001b[1;32m    531\u001b[0m \u001b[39mdef\u001b[39;00m \u001b[39mconnect\u001b[39m(\u001b[39mself\u001b[39m, wait_for_state\u001b[39m=\u001b[39m\u001b[39mTrue\u001b[39;00m):\n\u001b[1;32m    532\u001b[0m \u001b[39m    \u001b[39m\u001b[39m\"\"\"Enter SDK mode. Call this before any of the control functions.\u001b[39;00m\n\u001b[1;32m    533\u001b[0m \u001b[39m    \"\"\"\u001b[39;00m\n\u001b[0;32m--> 534\u001b[0m     \u001b[39mself\u001b[39;49m\u001b[39m.\u001b[39;49msend_control_command(\u001b[39m\"\u001b[39;49m\u001b[39mcommand\u001b[39;49m\u001b[39m\"\u001b[39;49m)\n\u001b[1;32m    536\u001b[0m     \u001b[39mif\u001b[39;00m wait_for_state:\n\u001b[1;32m    537\u001b[0m         REPS \u001b[39m=\u001b[39m \u001b[39m20\u001b[39m\n",
      "File \u001b[0;32m~/anaconda3/envs/droneformer/lib/python3.10/site-packages/djitellopy/enforce_types.py:54\u001b[0m, in \u001b[0;36menforce_types.<locals>.decorate.<locals>.wrapper\u001b[0;34m(*args, **kwargs)\u001b[0m\n\u001b[1;32m     51\u001b[0m \u001b[39m@wraps\u001b[39m(func)\n\u001b[1;32m     52\u001b[0m \u001b[39mdef\u001b[39;00m \u001b[39mwrapper\u001b[39m(\u001b[39m*\u001b[39margs, \u001b[39m*\u001b[39m\u001b[39m*\u001b[39mkwargs):\n\u001b[1;32m     53\u001b[0m     check_types(spec, \u001b[39m*\u001b[39margs, \u001b[39m*\u001b[39m\u001b[39m*\u001b[39mkwargs)\n\u001b[0;32m---> 54\u001b[0m     \u001b[39mreturn\u001b[39;00m func(\u001b[39m*\u001b[39;49margs, \u001b[39m*\u001b[39;49m\u001b[39m*\u001b[39;49mkwargs)\n",
      "File \u001b[0;32m~/anaconda3/envs/droneformer/lib/python3.10/site-packages/djitellopy/tello.py:486\u001b[0m, in \u001b[0;36mTello.send_control_command\u001b[0;34m(self, command, timeout)\u001b[0m\n\u001b[1;32m    482\u001b[0m         \u001b[39mreturn\u001b[39;00m \u001b[39mTrue\u001b[39;00m\n\u001b[1;32m    484\u001b[0m     \u001b[39mself\u001b[39m\u001b[39m.\u001b[39mLOGGER\u001b[39m.\u001b[39mdebug(\u001b[39m\"\u001b[39m\u001b[39mCommand attempt #\u001b[39m\u001b[39m{}\u001b[39;00m\u001b[39m failed for command: \u001b[39m\u001b[39m'\u001b[39m\u001b[39m{}\u001b[39;00m\u001b[39m'\u001b[39m\u001b[39m\"\u001b[39m\u001b[39m.\u001b[39mformat(i, command))\n\u001b[0;32m--> 486\u001b[0m \u001b[39mself\u001b[39;49m\u001b[39m.\u001b[39;49mraise_result_error(command, response)\n\u001b[1;32m    487\u001b[0m \u001b[39mreturn\u001b[39;00m \u001b[39mFalse\u001b[39;00m\n",
      "File \u001b[0;32m~/anaconda3/envs/droneformer/lib/python3.10/site-packages/djitellopy/enforce_types.py:54\u001b[0m, in \u001b[0;36menforce_types.<locals>.decorate.<locals>.wrapper\u001b[0;34m(*args, **kwargs)\u001b[0m\n\u001b[1;32m     51\u001b[0m \u001b[39m@wraps\u001b[39m(func)\n\u001b[1;32m     52\u001b[0m \u001b[39mdef\u001b[39;00m \u001b[39mwrapper\u001b[39m(\u001b[39m*\u001b[39margs, \u001b[39m*\u001b[39m\u001b[39m*\u001b[39mkwargs):\n\u001b[1;32m     53\u001b[0m     check_types(spec, \u001b[39m*\u001b[39margs, \u001b[39m*\u001b[39m\u001b[39m*\u001b[39mkwargs)\n\u001b[0;32m---> 54\u001b[0m     \u001b[39mreturn\u001b[39;00m func(\u001b[39m*\u001b[39;49margs, \u001b[39m*\u001b[39;49m\u001b[39m*\u001b[39;49mkwargs)\n",
      "File \u001b[0;32m~/anaconda3/envs/droneformer/lib/python3.10/site-packages/djitellopy/tello.py:528\u001b[0m, in \u001b[0;36mTello.raise_result_error\u001b[0;34m(self, command, response)\u001b[0m\n\u001b[1;32m    524\u001b[0m \u001b[39m\u001b[39m\u001b[39m\"\"\"Used to reaise an error after an unsuccessful command\u001b[39;00m\n\u001b[1;32m    525\u001b[0m \u001b[39mInternal method, you normally wouldn't call this yourself.\u001b[39;00m\n\u001b[1;32m    526\u001b[0m \u001b[39m\"\"\"\u001b[39;00m\n\u001b[1;32m    527\u001b[0m tries \u001b[39m=\u001b[39m \u001b[39m1\u001b[39m \u001b[39m+\u001b[39m \u001b[39mself\u001b[39m\u001b[39m.\u001b[39mretry_count\n\u001b[0;32m--> 528\u001b[0m \u001b[39mraise\u001b[39;00m \u001b[39mException\u001b[39;00m(\u001b[39m\"\u001b[39m\u001b[39mCommand \u001b[39m\u001b[39m'\u001b[39m\u001b[39m{}\u001b[39;00m\u001b[39m'\u001b[39m\u001b[39m was unsuccessful for \u001b[39m\u001b[39m{}\u001b[39;00m\u001b[39m tries. Latest response:\u001b[39m\u001b[39m\\t\u001b[39;00m\u001b[39m'\u001b[39m\u001b[39m{}\u001b[39;00m\u001b[39m'\u001b[39m\u001b[39m\"\u001b[39m\n\u001b[1;32m    529\u001b[0m                 \u001b[39m.\u001b[39mformat(command, tries, response))\n",
      "\u001b[0;31mException\u001b[0m: Command 'command' was unsuccessful for 4 tries. Latest response:\t'Aborting command 'command'. Did not receive a response after 7 seconds'"
     ]
    }
   ],
   "source": [
    "drone.connect()"
   ]
  },
  {
   "cell_type": "code",
   "execution_count": 6,
   "metadata": {},
   "outputs": [
    {
     "name": "stderr",
     "output_type": "stream",
     "text": [
      "[INFO] tello.py - 437 - Send command: 'streamon'\n",
      "[INFO] tello.py - 461 - Response streamon: 'ok'\n"
     ]
    }
   ],
   "source": [
    "take_individual_picture(drone)"
   ]
  },
  {
   "cell_type": "code",
   "execution_count": null,
   "metadata": {},
   "outputs": [
    {
     "name": "stderr",
     "output_type": "stream",
     "text": [
      "[INFO] tello.py - 437 - Send command: 'streamon'\n",
      "[INFO] tello.py - 461 - Response streamon: 'error'\n"
     ]
    },
    {
     "name": "stderr",
     "output_type": "stream",
     "text": [
      "[INFO] tello.py - 437 - Send command: 'streamon'\n",
      "[INFO] tello.py - 461 - Response streamon: 'error'\n",
      "[INFO] tello.py - 437 - Send command: 'streamon'\n",
      "[INFO] tello.py - 461 - Response streamon: 'error'\n",
      "Exception in thread Thread-8 (stream_frames):\n",
      "Traceback (most recent call last):\n",
      "  File \"/opt/homebrew/Cellar/python@3.10/3.10.6_1/Frameworks/Python.framework/Versions/3.10/lib/python3.10/threading.py\", line 1016, in _bootstrap_inner\n",
      "    self.run()\n",
      "  File \"/opt/homebrew/Cellar/python@3.10/3.10.6_1/Frameworks/Python.framework/Versions/3.10/lib/python3.10/threading.py\", line 953, in run\n",
      "    self._target(*self._args, **self._kwargs)\n",
      "  File \"/Users/sidbendre/project/DroneFormer/Scripts/data_collection_utils.py\", line 19, in stream_frames\n",
      "    drone.streamon()\n",
      "  File \"/opt/homebrew/lib/python3.10/site-packages/djitellopy/enforce_types.py\", line 54, in wrapper\n",
      "    return func(*args, **kwargs)\n",
      "  File \"/opt/homebrew/lib/python3.10/site-packages/djitellopy/tello.py\", line 593, in streamon\n",
      "    self.send_control_command(\"streamon\")\n",
      "  File \"/opt/homebrew/lib/python3.10/site-packages/djitellopy/enforce_types.py\", line 54, in wrapper\n",
      "    return func(*args, **kwargs)\n",
      "  File \"/opt/homebrew/lib/python3.10/site-packages/djitellopy/tello.py\", line 486, in send_control_command\n",
      "    self.raise_result_error(command, response)\n",
      "  File \"/opt/homebrew/lib/python3.10/site-packages/djitellopy/enforce_types.py\", line 54, in wrapper\n",
      "    return func(*args, **kwargs)\n",
      "  File \"/opt/homebrew/lib/python3.10/site-packages/djitellopy/tello.py\", line 528, in raise_result_error\n",
      "    raise Exception(\"Command '{}' was unsuccessful for {} tries. Latest response:\\t'{}'\"\n",
      "Exception: Command 'streamon' was unsuccessful for 4 tries. Latest response:\t'error'\n",
      "[h264 @ 0x10686c800] error while decoding MB 21 30, bytestream -6\n"
     ]
    },
    {
     "ename": "",
     "evalue": "",
     "output_type": "error",
     "traceback": [
      "\u001b[1;31mThe Kernel crashed while executing code in the the current cell or a previous cell. Please review the code in the cell(s) to identify a possible cause of the failure. Click <a href='https://aka.ms/vscodeJupyterKernelCrash'>here</a> for more info. View Jupyter <a href='command:jupyter.viewOutput'>log</a> for further details."
     ]
    }
   ],
   "source": [
    "stream = Thread(target=stream_frames, args=(drone, False))\n",
    "stream.start()"
   ]
  },
  {
   "cell_type": "code",
   "execution_count": 4,
   "metadata": {},
   "outputs": [],
   "source": [
    "objective = \"Find the person who is wearing a blue cap\""
   ]
  },
  {
   "cell_type": "code",
   "execution_count": 5,
   "metadata": {},
   "outputs": [
    {
     "name": "stderr",
     "output_type": "stream",
     "text": [
      "[INFO] tello.py - 437 - Send command: 'streamon'\n",
      "[WARNING] tello.py - 447 - Aborting command 'streamon'. Did not receive a response after 7 seconds\n",
      "[INFO] tello.py - 437 - Send command: 'streamon'\n",
      "[WARNING] tello.py - 447 - Aborting command 'streamon'. Did not receive a response after 7 seconds\n",
      "[INFO] tello.py - 437 - Send command: 'streamon'\n",
      "[WARNING] tello.py - 447 - Aborting command 'streamon'. Did not receive a response after 7 seconds\n"
     ]
    },
    {
     "ename": "Exception",
     "evalue": "Command 'streamon' was unsuccessful for 4 tries. Latest response:\t'Aborting command 'streamon'. Did not receive a response after 7 seconds'",
     "output_type": "error",
     "traceback": [
      "\u001b[0;31m---------------------------------------------------------------------------\u001b[0m",
      "\u001b[0;31mException\u001b[0m                                 Traceback (most recent call last)",
      "Cell \u001b[0;32mIn[5], line 1\u001b[0m\n\u001b[0;32m----> 1\u001b[0m drone\u001b[39m.\u001b[39;49mstreamon()\n\u001b[1;32m      2\u001b[0m drone\u001b[39m.\u001b[39mtakeoff()\n",
      "File \u001b[0;32m/opt/homebrew/lib/python3.10/site-packages/djitellopy/enforce_types.py:54\u001b[0m, in \u001b[0;36menforce_types.<locals>.decorate.<locals>.wrapper\u001b[0;34m(*args, **kwargs)\u001b[0m\n\u001b[1;32m     51\u001b[0m \u001b[39m@wraps\u001b[39m(func)\n\u001b[1;32m     52\u001b[0m \u001b[39mdef\u001b[39;00m \u001b[39mwrapper\u001b[39m(\u001b[39m*\u001b[39margs, \u001b[39m*\u001b[39m\u001b[39m*\u001b[39mkwargs):\n\u001b[1;32m     53\u001b[0m     check_types(spec, \u001b[39m*\u001b[39margs, \u001b[39m*\u001b[39m\u001b[39m*\u001b[39mkwargs)\n\u001b[0;32m---> 54\u001b[0m     \u001b[39mreturn\u001b[39;00m func(\u001b[39m*\u001b[39;49margs, \u001b[39m*\u001b[39;49m\u001b[39m*\u001b[39;49mkwargs)\n",
      "File \u001b[0;32m/opt/homebrew/lib/python3.10/site-packages/djitellopy/tello.py:593\u001b[0m, in \u001b[0;36mTello.streamon\u001b[0;34m(self)\u001b[0m\n\u001b[1;32m    582\u001b[0m \u001b[39mdef\u001b[39;00m \u001b[39mstreamon\u001b[39m(\u001b[39mself\u001b[39m):\n\u001b[1;32m    583\u001b[0m \u001b[39m    \u001b[39m\u001b[39m\"\"\"Turn on video streaming. Use `tello.get_frame_read` afterwards.\u001b[39;00m\n\u001b[1;32m    584\u001b[0m \u001b[39m    Video Streaming is supported on all tellos when in AP mode (i.e.\u001b[39;00m\n\u001b[1;32m    585\u001b[0m \u001b[39m    when your computer is connected to Tello-XXXXXX WiFi ntwork).\u001b[39;00m\n\u001b[0;32m   (...)\u001b[0m\n\u001b[1;32m    591\u001b[0m \u001b[39m        firmware. This can be done using the official Tello app.\u001b[39;00m\n\u001b[1;32m    592\u001b[0m \u001b[39m    \"\"\"\u001b[39;00m\n\u001b[0;32m--> 593\u001b[0m     \u001b[39mself\u001b[39;49m\u001b[39m.\u001b[39;49msend_control_command(\u001b[39m\"\u001b[39;49m\u001b[39mstreamon\u001b[39;49m\u001b[39m\"\u001b[39;49m)\n\u001b[1;32m    594\u001b[0m     \u001b[39mself\u001b[39m\u001b[39m.\u001b[39mstream_on \u001b[39m=\u001b[39m \u001b[39mTrue\u001b[39;00m\n",
      "File \u001b[0;32m/opt/homebrew/lib/python3.10/site-packages/djitellopy/enforce_types.py:54\u001b[0m, in \u001b[0;36menforce_types.<locals>.decorate.<locals>.wrapper\u001b[0;34m(*args, **kwargs)\u001b[0m\n\u001b[1;32m     51\u001b[0m \u001b[39m@wraps\u001b[39m(func)\n\u001b[1;32m     52\u001b[0m \u001b[39mdef\u001b[39;00m \u001b[39mwrapper\u001b[39m(\u001b[39m*\u001b[39margs, \u001b[39m*\u001b[39m\u001b[39m*\u001b[39mkwargs):\n\u001b[1;32m     53\u001b[0m     check_types(spec, \u001b[39m*\u001b[39margs, \u001b[39m*\u001b[39m\u001b[39m*\u001b[39mkwargs)\n\u001b[0;32m---> 54\u001b[0m     \u001b[39mreturn\u001b[39;00m func(\u001b[39m*\u001b[39;49margs, \u001b[39m*\u001b[39;49m\u001b[39m*\u001b[39;49mkwargs)\n",
      "File \u001b[0;32m/opt/homebrew/lib/python3.10/site-packages/djitellopy/tello.py:486\u001b[0m, in \u001b[0;36mTello.send_control_command\u001b[0;34m(self, command, timeout)\u001b[0m\n\u001b[1;32m    482\u001b[0m         \u001b[39mreturn\u001b[39;00m \u001b[39mTrue\u001b[39;00m\n\u001b[1;32m    484\u001b[0m     \u001b[39mself\u001b[39m\u001b[39m.\u001b[39mLOGGER\u001b[39m.\u001b[39mdebug(\u001b[39m\"\u001b[39m\u001b[39mCommand attempt #\u001b[39m\u001b[39m{}\u001b[39;00m\u001b[39m failed for command: \u001b[39m\u001b[39m'\u001b[39m\u001b[39m{}\u001b[39;00m\u001b[39m'\u001b[39m\u001b[39m\"\u001b[39m\u001b[39m.\u001b[39mformat(i, command))\n\u001b[0;32m--> 486\u001b[0m \u001b[39mself\u001b[39;49m\u001b[39m.\u001b[39;49mraise_result_error(command, response)\n\u001b[1;32m    487\u001b[0m \u001b[39mreturn\u001b[39;00m \u001b[39mFalse\u001b[39;00m\n",
      "File \u001b[0;32m/opt/homebrew/lib/python3.10/site-packages/djitellopy/enforce_types.py:54\u001b[0m, in \u001b[0;36menforce_types.<locals>.decorate.<locals>.wrapper\u001b[0;34m(*args, **kwargs)\u001b[0m\n\u001b[1;32m     51\u001b[0m \u001b[39m@wraps\u001b[39m(func)\n\u001b[1;32m     52\u001b[0m \u001b[39mdef\u001b[39;00m \u001b[39mwrapper\u001b[39m(\u001b[39m*\u001b[39margs, \u001b[39m*\u001b[39m\u001b[39m*\u001b[39mkwargs):\n\u001b[1;32m     53\u001b[0m     check_types(spec, \u001b[39m*\u001b[39margs, \u001b[39m*\u001b[39m\u001b[39m*\u001b[39mkwargs)\n\u001b[0;32m---> 54\u001b[0m     \u001b[39mreturn\u001b[39;00m func(\u001b[39m*\u001b[39;49margs, \u001b[39m*\u001b[39;49m\u001b[39m*\u001b[39;49mkwargs)\n",
      "File \u001b[0;32m/opt/homebrew/lib/python3.10/site-packages/djitellopy/tello.py:528\u001b[0m, in \u001b[0;36mTello.raise_result_error\u001b[0;34m(self, command, response)\u001b[0m\n\u001b[1;32m    524\u001b[0m \u001b[39m\u001b[39m\u001b[39m\"\"\"Used to reaise an error after an unsuccessful command\u001b[39;00m\n\u001b[1;32m    525\u001b[0m \u001b[39mInternal method, you normally wouldn't call this yourself.\u001b[39;00m\n\u001b[1;32m    526\u001b[0m \u001b[39m\"\"\"\u001b[39;00m\n\u001b[1;32m    527\u001b[0m tries \u001b[39m=\u001b[39m \u001b[39m1\u001b[39m \u001b[39m+\u001b[39m \u001b[39mself\u001b[39m\u001b[39m.\u001b[39mretry_count\n\u001b[0;32m--> 528\u001b[0m \u001b[39mraise\u001b[39;00m \u001b[39mException\u001b[39;00m(\u001b[39m\"\u001b[39m\u001b[39mCommand \u001b[39m\u001b[39m'\u001b[39m\u001b[39m{}\u001b[39;00m\u001b[39m'\u001b[39m\u001b[39m was unsuccessful for \u001b[39m\u001b[39m{}\u001b[39;00m\u001b[39m tries. Latest response:\u001b[39m\u001b[39m\\t\u001b[39;00m\u001b[39m'\u001b[39m\u001b[39m{}\u001b[39;00m\u001b[39m'\u001b[39m\u001b[39m\"\u001b[39m\n\u001b[1;32m    529\u001b[0m                 \u001b[39m.\u001b[39mformat(command, tries, response))\n",
      "\u001b[0;31mException\u001b[0m: Command 'streamon' was unsuccessful for 4 tries. Latest response:\t'Aborting command 'streamon'. Did not receive a response after 7 seconds'"
     ]
    }
   ],
   "source": [
    "drone.streamon()\n",
    "drone.takeoff()"
   ]
  },
  {
   "cell_type": "code",
   "execution_count": 32,
   "metadata": {},
   "outputs": [],
   "source": [
    "def query_the_environment(drone, question):\n",
    "    image = drone.get_frame_read().frame\n",
    "    encoding = processor(image, question, return_tensors=\"pt\")\n",
    "    outputs = model(**encoding)\n",
    "    logits = outputs.logits\n",
    "    idx = torch.sigmoid(logits).argmax(-1).item()\n",
    "    return str(model.config.id2label[idx])\n"
   ]
  },
  {
   "cell_type": "code",
   "execution_count": 33,
   "metadata": {},
   "outputs": [],
   "source": [
    "# Generate next action prompt\n",
    "def next_action_prompt(prompt_template, objective, environment_context, previous_commands, previous_context, vqa_questions):\n",
    "    prompt = prompt_template.replace(\"$objective\", objective)\n",
    "    prompt = prompt.replace(\"$context\", environment_context)\n",
    "    prompt = prompt.replace(\"$previous_commands\", previous_commands)\n",
    "    prompt = prompt.replace(\"$previous_context\", previous_context)\n",
    "    prompt = prompt.replace(\"$vqa_questions\", vqa_questions)\n",
    "    return prompt, [\"\\n\"] # prompt and stop token"
   ]
  },
  {
   "cell_type": "code",
   "execution_count": 34,
   "metadata": {},
   "outputs": [],
   "source": [
    "def prompt(prompt, stop_tokens):\n",
    "    response = openai.Completion.create(\n",
    "        engine=\"text-davinci-003\",\n",
    "        prompt=prompt,\n",
    "        temperature=0.5,\n",
    "        max_tokens=1000,\n",
    "        top_p=1,\n",
    "        frequency_penalty=0,\n",
    "        presence_penalty=0,\n",
    "        best_of=10,\n",
    "        stop=stop_tokens,\n",
    "    )\n",
    "    return response.choices[0].text"
   ]
  },
  {
   "cell_type": "code",
   "execution_count": 35,
   "metadata": {},
   "outputs": [],
   "source": [
    "def get_vqa_questions(vqa_prompt_template, objective):\n",
    "    prompt_text = vqa_prompt_template.replace(\"$objective\", objective)\n",
    "    result = prompt(prompt_text, [\"&&&&&&\"])\n",
    "    matches = re.findall(r'@(.+?)@', result)\n",
    "    return matches\n"
   ]
  },
  {
   "cell_type": "code",
   "execution_count": 36,
   "metadata": {},
   "outputs": [
    {
     "data": {
      "text/plain": [
       "['Is there a person in the image?', 'Is there a blue cap in the image?']"
      ]
     },
     "execution_count": 36,
     "metadata": {},
     "output_type": "execute_result"
    }
   ],
   "source": [
    "get_vqa_questions(vqa_prompt_template, objective)"
   ]
  },
  {
   "cell_type": "code",
   "execution_count": null,
   "metadata": {},
   "outputs": [],
   "source": [
    "def explore(drone, use_gpt=False, prompt_template=explore_template):\n",
    "    if use_gpt:\n",
    "       prompt(prompt_template)\n",
    "    else:\n",
    "        import random as r\n",
    "        # randomly generate a number between 45 and 180\n",
    "        random_angle = r.randint(45, 180)\n",
    "        # randomly generate a number between 5 and 20\n",
    "        random_distance = r.randint(5, 20)\n",
    "        actions = [(drone.move_left, random_distance), (drone.move_right, random_distance), (drone.rotate_clockwise, random_angle), (drone.rotate_counter_clockwise, random_angle), (drone.move_forward, random_distance), (drone.move_back, random_distance)]\n",
    "\n",
    "        # sample 3 actions\n",
    "        sampled_actions = r.sample(actions, 3)\n",
    "        for action in sampled_actions:\n",
    "            action[0](action[1])\n",
    "            time.sleep(0.5)\n"
   ]
  },
  {
   "cell_type": "code",
   "execution_count": 1,
   "metadata": {},
   "outputs": [
    {
     "ename": "NameError",
     "evalue": "name 'explore_template' is not defined",
     "output_type": "error",
     "traceback": [
      "\u001b[0;31m---------------------------------------------------------------------------\u001b[0m",
      "\u001b[0;31mNameError\u001b[0m                                 Traceback (most recent call last)",
      "Cell \u001b[0;32mIn[1], line 28\u001b[0m\n\u001b[1;32m     24\u001b[0m     \u001b[39mreturn\u001b[39;00m(center_x, center_y)\n\u001b[1;32m     27\u001b[0m \u001b[39m# Exploit Function: Input we have a bounding box with 4 corners (or 1 corner + length and width for a more compact representation)\u001b[39;00m\n\u001b[0;32m---> 28\u001b[0m \u001b[39mdef\u001b[39;00m \u001b[39mexploit\u001b[39m(drone, bbox, use_gpt \u001b[39m=\u001b[39m \u001b[39mFalse\u001b[39;00m, prompt_template \u001b[39m=\u001b[39m explore_template):\n\u001b[1;32m     29\u001b[0m     \u001b[39mif\u001b[39;00m use_gpt:\n\u001b[1;32m     30\u001b[0m         prompt(prompt_template)\n",
      "\u001b[0;31mNameError\u001b[0m: name 'explore_template' is not defined"
     ]
    }
   ],
   "source": [
    "# Get the 4 points of a bounding box\n",
    "def find_corners(upper_left, length: float, width: float):\n",
    "    corners = []\n",
    "    \n",
    "    upper_right = (upper_left[0] + length, upper_left[1])\n",
    "    lower_left =  (upper_left[0], upper_left[1] + width)\n",
    "    lower_right = (upper_left[0] + length, upper_left[1] + width)\n",
    "    \n",
    "    corners.append(upper_left)\n",
    "    corners.append(upper_right)\n",
    "    corners.append(lower_left)\n",
    "    corners.append(lower_right)\n",
    "    \n",
    "    return corners\n",
    "    \n",
    "# Find the center of a bounding box\n",
    "def find_center(corners):\n",
    "    upper_left, upper_right, lower_left, lower_right = corners\n",
    "    \n",
    "    # create diagonal using upper left and lower right\n",
    "    center_x = (upper_left[0] + upper_right[0]) / 2\n",
    "    center_y = (upper_left[1] + lower_right[1]) / 2\n",
    "    \n",
    "    return(center_x, center_y)\n",
    "\n",
    "\n",
    "# Exploit Function: Input we have a bounding box with 4 corners (or 1 corner + length and width for a more compact representation)\n",
    "def exploit(drone, bbox, use_gpt = False, prompt_template = explore_template):\n",
    "    if use_gpt:\n",
    "        prompt(prompt_template)\n",
    "        \n",
    "    distance_to_object = None\n",
    "    angle_to_object = None\n",
    "    height_to_object = None\n",
    "    actions = [\n",
    "        (drone.move_left, distance_to_object),\n",
    "        (drone.move_right, distance_to_object),\n",
    "        (drone.rotate_clockwise, angle_to_object),\n",
    "        (drone.rotate_counter_clockwise, angle_to_object),\n",
    "        (drone.move_forward, distance_to_object),\n",
    "        (drone.move_back, distance_to_object) \n",
    "    ]\n",
    "        \n",
    "    # Step 1: Find out whether or not the drone is facing the object\n",
    "    object_in_frame = False\n",
    "    while object_in_frame == False:\n",
    "        drone.rotate_clockwise(30)\n",
    "    \n",
    "    \n",
    "    # Step 2: Translate the object to the center\n",
    "    bounding_box_center = find_center(bbox)\n",
    "    current_image = drone.get_frame_read().frame\n",
    "    height, width, channel = current_image.shape\n",
    "    frame_center = (width / 2, height / 2)\n",
    "    \n",
    "    delta_y = frame_center[1] - bounding_box_center[1]\n",
    "    delta_x = frame_center[0] - bounding_box_center[0]\n",
    "    \n",
    "    if delta_y < 0:\n",
    "        drone.move_up(abs(delta_y))\n",
    "    else:\n",
    "        drone.move_down(abs(delta_y))\n",
    "    \n",
    "    if delta_x < 0:\n",
    "        drone.move_left(abs(delta_x))\n",
    "    else:\n",
    "        drone.move_right(abs(delta_x))\n",
    "    \n",
    "    # Step 3: Zoom In (move towards the object)\n",
    "    bbox_length = bbox[1][0] - bbox[0][0]\n",
    "    bbox_width = bbox[1][1] - bbox[0][1]\n",
    "    \n",
    "    while bbox_width <= 100 or bbox_length <= 100:\n",
    "        drone.move_forward(10)\n",
    "    \n",
    "    # Step 4: Terminate\n",
    "    return"
   ]
  },
  {
   "cell_type": "code",
   "execution_count": null,
   "metadata": {},
   "outputs": [],
   "source": []
  }
 ],
 "metadata": {
  "kernelspec": {
   "display_name": "base",
   "language": "python",
   "name": "python3"
  },
  "language_info": {
   "codemirror_mode": {
    "name": "ipython",
    "version": 3
   },
   "file_extension": ".py",
   "mimetype": "text/x-python",
   "name": "python",
   "nbconvert_exporter": "python",
   "pygments_lexer": "ipython3",
   "version": "3.9.13"
  },
  "orig_nbformat": 4,
  "vscode": {
   "interpreter": {
    "hash": "5940fbd60f4524a89d25f69a9047e7141ce4840794657a7e6183bb38ffdcde84"
   }
  }
 },
 "nbformat": 4,
 "nbformat_minor": 2
}
