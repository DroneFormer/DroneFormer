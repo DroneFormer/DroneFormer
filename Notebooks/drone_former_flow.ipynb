{
 "cells": [
  {
   "cell_type": "code",
   "execution_count": 2,
   "metadata": {},
   "outputs": [
    {
     "name": "stderr",
     "output_type": "stream",
     "text": [
      "/opt/homebrew/lib/python3.10/site-packages/tqdm/auto.py:22: TqdmWarning: IProgress not found. Please update jupyter and ipywidgets. See https://ipywidgets.readthedocs.io/en/stable/user_install.html\n",
      "  from .autonotebook import tqdm as notebook_tqdm\n"
     ]
    },
    {
     "name": "stdout",
     "output_type": "stream",
     "text": [
      "Imported all modules\n"
     ]
    }
   ],
   "source": [
    "import time, cv2, sys, os, torch\n",
    "from threading import Thread\n",
    "from djitellopy import Tello\n",
    "import openai\n",
    "import re\n",
    "\n",
    "# load environment variables\n",
    "from dotenv import load_dotenv\n",
    "load_dotenv()\n",
    "\n",
    "openai.api_key = os.getenv(\"OPENAI_API_KEY\")\n",
    "\n",
    "module_path = os.path.abspath(os.path.join('..'))\n",
    "if module_path not in sys.path:\n",
    "    sys.path.append(module_path+\"/prompts/\")\n",
    "\n",
    "from vqa_question.v1 import prompt_template as vqa_prompt_template\n",
    "from drone_explore_prompt import prompt_template as explore_template\n",
    "from drone_next_action.v1 import prompt_template as drone_prompt_template\n",
    "\n",
    "module_path = os.path.abspath(os.path.join('..'))\n",
    "if module_path not in sys.path:\n",
    "    sys.path.append(module_path+\"/Scripts/\")\n",
    "\n",
    "from data_collection_utils import take_individual_picture, stream_video, stream_frames, record_streamed_frames\n",
    "\n",
    "print(\"Imported all modules\")\n"
   ]
  },
  {
   "cell_type": "code",
   "execution_count": 3,
   "metadata": {},
   "outputs": [],
   "source": [
    "from transformers import ViltProcessor, ViltForQuestionAnswering\n",
    "\n",
    "processor = ViltProcessor.from_pretrained(\"dandelin/vilt-b32-finetuned-vqa\")\n",
    "model = ViltForQuestionAnswering.from_pretrained(\"dandelin/vilt-b32-finetuned-vqa\")"
   ]
  },
  {
   "cell_type": "code",
   "execution_count": 4,
   "metadata": {},
   "outputs": [
    {
     "name": "stderr",
     "output_type": "stream",
     "text": [
      "[INFO] tello.py - 122 - Tello instance was initialized. Host: '192.168.10.1'. Port: '8889'.\n"
     ]
    }
   ],
   "source": [
    "drone = Tello()"
   ]
  },
  {
   "cell_type": "code",
   "execution_count": null,
   "metadata": {},
   "outputs": [
    {
     "name": "stderr",
     "output_type": "stream",
     "text": [
      "[INFO] tello.py - 437 - Send command: 'streamon'\n",
      "[INFO] tello.py - 461 - Response streamon: 'error'\n"
     ]
    },
    {
     "name": "stderr",
     "output_type": "stream",
     "text": [
      "[INFO] tello.py - 437 - Send command: 'streamon'\n",
      "[INFO] tello.py - 461 - Response streamon: 'error'\n",
      "[INFO] tello.py - 437 - Send command: 'streamon'\n",
      "[INFO] tello.py - 461 - Response streamon: 'error'\n",
      "Exception in thread Thread-8 (stream_frames):\n",
      "Traceback (most recent call last):\n",
      "  File \"/opt/homebrew/Cellar/python@3.10/3.10.6_1/Frameworks/Python.framework/Versions/3.10/lib/python3.10/threading.py\", line 1016, in _bootstrap_inner\n",
      "    self.run()\n",
      "  File \"/opt/homebrew/Cellar/python@3.10/3.10.6_1/Frameworks/Python.framework/Versions/3.10/lib/python3.10/threading.py\", line 953, in run\n",
      "    self._target(*self._args, **self._kwargs)\n",
      "  File \"/Users/sidbendre/project/DroneFormer/Scripts/data_collection_utils.py\", line 19, in stream_frames\n",
      "    drone.streamon()\n",
      "  File \"/opt/homebrew/lib/python3.10/site-packages/djitellopy/enforce_types.py\", line 54, in wrapper\n",
      "    return func(*args, **kwargs)\n",
      "  File \"/opt/homebrew/lib/python3.10/site-packages/djitellopy/tello.py\", line 593, in streamon\n",
      "    self.send_control_command(\"streamon\")\n",
      "  File \"/opt/homebrew/lib/python3.10/site-packages/djitellopy/enforce_types.py\", line 54, in wrapper\n",
      "    return func(*args, **kwargs)\n",
      "  File \"/opt/homebrew/lib/python3.10/site-packages/djitellopy/tello.py\", line 486, in send_control_command\n",
      "    self.raise_result_error(command, response)\n",
      "  File \"/opt/homebrew/lib/python3.10/site-packages/djitellopy/enforce_types.py\", line 54, in wrapper\n",
      "    return func(*args, **kwargs)\n",
      "  File \"/opt/homebrew/lib/python3.10/site-packages/djitellopy/tello.py\", line 528, in raise_result_error\n",
      "    raise Exception(\"Command '{}' was unsuccessful for {} tries. Latest response:\\t'{}'\"\n",
      "Exception: Command 'streamon' was unsuccessful for 4 tries. Latest response:\t'error'\n",
      "[h264 @ 0x10686c800] error while decoding MB 21 30, bytestream -6\n"
     ]
    },
    {
     "ename": "",
     "evalue": "",
     "output_type": "error",
     "traceback": [
      "\u001b[1;31mThe Kernel crashed while executing code in the the current cell or a previous cell. Please review the code in the cell(s) to identify a possible cause of the failure. Click <a href='https://aka.ms/vscodeJupyterKernelCrash'>here</a> for more info. View Jupyter <a href='command:jupyter.viewOutput'>log</a> for further details."
     ]
    }
   ],
   "source": [
    "stream = Thread(target=stream_frames, args=(drone, False))\n",
    "stream.start()"
   ]
  },
  {
   "cell_type": "code",
   "execution_count": null,
   "metadata": {},
   "outputs": [],
   "source": []
  },
  {
   "cell_type": "code",
   "execution_count": 4,
   "metadata": {},
   "outputs": [],
   "source": [
    "objective = \"Find the person who is wearing a blue cap\""
   ]
  },
  {
   "cell_type": "code",
   "execution_count": 6,
   "metadata": {},
   "outputs": [
    {
     "name": "stderr",
     "output_type": "stream",
     "text": [
      "[INFO] tello.py - 437 - Send command: 'takeoff'\n",
      "[WARNING] tello.py - 447 - Aborting command 'takeoff'. Did not receive a response after 20 seconds\n",
      "[INFO] tello.py - 437 - Send command: 'takeoff'\n",
      "[WARNING] tello.py - 447 - Aborting command 'takeoff'. Did not receive a response after 20 seconds\n",
      "[INFO] tello.py - 437 - Send command: 'takeoff'\n"
     ]
    },
    {
     "ename": "OSError",
     "evalue": "[Errno 51] Network is unreachable",
     "output_type": "error",
     "traceback": [
      "\u001b[0;31m---------------------------------------------------------------------------\u001b[0m",
      "\u001b[0;31mOSError\u001b[0m                                   Traceback (most recent call last)",
      "Cell \u001b[0;32mIn[6], line 1\u001b[0m\n\u001b[0;32m----> 1\u001b[0m drone\u001b[39m.\u001b[39;49mtakeoff()\n",
      "File \u001b[0;32m/opt/homebrew/lib/python3.10/site-packages/djitellopy/enforce_types.py:54\u001b[0m, in \u001b[0;36menforce_types.<locals>.decorate.<locals>.wrapper\u001b[0;34m(*args, **kwargs)\u001b[0m\n\u001b[1;32m     51\u001b[0m \u001b[39m@wraps\u001b[39m(func)\n\u001b[1;32m     52\u001b[0m \u001b[39mdef\u001b[39;00m \u001b[39mwrapper\u001b[39m(\u001b[39m*\u001b[39margs, \u001b[39m*\u001b[39m\u001b[39m*\u001b[39mkwargs):\n\u001b[1;32m     53\u001b[0m     check_types(spec, \u001b[39m*\u001b[39margs, \u001b[39m*\u001b[39m\u001b[39m*\u001b[39mkwargs)\n\u001b[0;32m---> 54\u001b[0m     \u001b[39mreturn\u001b[39;00m func(\u001b[39m*\u001b[39;49margs, \u001b[39m*\u001b[39;49m\u001b[39m*\u001b[39;49mkwargs)\n",
      "File \u001b[0;32m/opt/homebrew/lib/python3.10/site-packages/djitellopy/tello.py:573\u001b[0m, in \u001b[0;36mTello.takeoff\u001b[0;34m(self)\u001b[0m\n\u001b[1;32m    569\u001b[0m \u001b[39m\u001b[39m\u001b[39m\"\"\"Automatic takeoff.\u001b[39;00m\n\u001b[1;32m    570\u001b[0m \u001b[39m\"\"\"\u001b[39;00m\n\u001b[1;32m    571\u001b[0m \u001b[39m# Something it takes a looooot of time to take off and return a succesful takeoff.\u001b[39;00m\n\u001b[1;32m    572\u001b[0m \u001b[39m# So we better wait. Otherwise, it would give us an error on the following calls.\u001b[39;00m\n\u001b[0;32m--> 573\u001b[0m \u001b[39mself\u001b[39;49m\u001b[39m.\u001b[39;49msend_control_command(\u001b[39m\"\u001b[39;49m\u001b[39mtakeoff\u001b[39;49m\u001b[39m\"\u001b[39;49m, timeout\u001b[39m=\u001b[39;49mTello\u001b[39m.\u001b[39;49mTAKEOFF_TIMEOUT)\n\u001b[1;32m    574\u001b[0m \u001b[39mself\u001b[39m\u001b[39m.\u001b[39mis_flying \u001b[39m=\u001b[39m \u001b[39mTrue\u001b[39;00m\n",
      "File \u001b[0;32m/opt/homebrew/lib/python3.10/site-packages/djitellopy/enforce_types.py:54\u001b[0m, in \u001b[0;36menforce_types.<locals>.decorate.<locals>.wrapper\u001b[0;34m(*args, **kwargs)\u001b[0m\n\u001b[1;32m     51\u001b[0m \u001b[39m@wraps\u001b[39m(func)\n\u001b[1;32m     52\u001b[0m \u001b[39mdef\u001b[39;00m \u001b[39mwrapper\u001b[39m(\u001b[39m*\u001b[39margs, \u001b[39m*\u001b[39m\u001b[39m*\u001b[39mkwargs):\n\u001b[1;32m     53\u001b[0m     check_types(spec, \u001b[39m*\u001b[39margs, \u001b[39m*\u001b[39m\u001b[39m*\u001b[39mkwargs)\n\u001b[0;32m---> 54\u001b[0m     \u001b[39mreturn\u001b[39;00m func(\u001b[39m*\u001b[39;49margs, \u001b[39m*\u001b[39;49m\u001b[39m*\u001b[39;49mkwargs)\n",
      "File \u001b[0;32m/opt/homebrew/lib/python3.10/site-packages/djitellopy/tello.py:479\u001b[0m, in \u001b[0;36mTello.send_control_command\u001b[0;34m(self, command, timeout)\u001b[0m\n\u001b[1;32m    477\u001b[0m response \u001b[39m=\u001b[39m \u001b[39m\"\u001b[39m\u001b[39mmax retries exceeded\u001b[39m\u001b[39m\"\u001b[39m\n\u001b[1;32m    478\u001b[0m \u001b[39mfor\u001b[39;00m i \u001b[39min\u001b[39;00m \u001b[39mrange\u001b[39m(\u001b[39m0\u001b[39m, \u001b[39mself\u001b[39m\u001b[39m.\u001b[39mretry_count):\n\u001b[0;32m--> 479\u001b[0m     response \u001b[39m=\u001b[39m \u001b[39mself\u001b[39;49m\u001b[39m.\u001b[39;49msend_command_with_return(command, timeout\u001b[39m=\u001b[39;49mtimeout)\n\u001b[1;32m    481\u001b[0m     \u001b[39mif\u001b[39;00m \u001b[39m'\u001b[39m\u001b[39mok\u001b[39m\u001b[39m'\u001b[39m \u001b[39min\u001b[39;00m response\u001b[39m.\u001b[39mlower():\n\u001b[1;32m    482\u001b[0m         \u001b[39mreturn\u001b[39;00m \u001b[39mTrue\u001b[39;00m\n",
      "File \u001b[0;32m/opt/homebrew/lib/python3.10/site-packages/djitellopy/enforce_types.py:54\u001b[0m, in \u001b[0;36menforce_types.<locals>.decorate.<locals>.wrapper\u001b[0;34m(*args, **kwargs)\u001b[0m\n\u001b[1;32m     51\u001b[0m \u001b[39m@wraps\u001b[39m(func)\n\u001b[1;32m     52\u001b[0m \u001b[39mdef\u001b[39;00m \u001b[39mwrapper\u001b[39m(\u001b[39m*\u001b[39margs, \u001b[39m*\u001b[39m\u001b[39m*\u001b[39mkwargs):\n\u001b[1;32m     53\u001b[0m     check_types(spec, \u001b[39m*\u001b[39margs, \u001b[39m*\u001b[39m\u001b[39m*\u001b[39mkwargs)\n\u001b[0;32m---> 54\u001b[0m     \u001b[39mreturn\u001b[39;00m func(\u001b[39m*\u001b[39;49margs, \u001b[39m*\u001b[39;49m\u001b[39m*\u001b[39;49mkwargs)\n",
      "File \u001b[0;32m/opt/homebrew/lib/python3.10/site-packages/djitellopy/tello.py:440\u001b[0m, in \u001b[0;36mTello.send_command_with_return\u001b[0;34m(self, command, timeout)\u001b[0m\n\u001b[1;32m    437\u001b[0m \u001b[39mself\u001b[39m\u001b[39m.\u001b[39mLOGGER\u001b[39m.\u001b[39minfo(\u001b[39m\"\u001b[39m\u001b[39mSend command: \u001b[39m\u001b[39m'\u001b[39m\u001b[39m{}\u001b[39;00m\u001b[39m'\u001b[39m\u001b[39m\"\u001b[39m\u001b[39m.\u001b[39mformat(command))\n\u001b[1;32m    438\u001b[0m timestamp \u001b[39m=\u001b[39m time\u001b[39m.\u001b[39mtime()\n\u001b[0;32m--> 440\u001b[0m client_socket\u001b[39m.\u001b[39;49msendto(command\u001b[39m.\u001b[39;49mencode(\u001b[39m'\u001b[39;49m\u001b[39mutf-8\u001b[39;49m\u001b[39m'\u001b[39;49m), \u001b[39mself\u001b[39;49m\u001b[39m.\u001b[39;49maddress)\n\u001b[1;32m    442\u001b[0m responses \u001b[39m=\u001b[39m \u001b[39mself\u001b[39m\u001b[39m.\u001b[39mget_own_udp_object()[\u001b[39m'\u001b[39m\u001b[39mresponses\u001b[39m\u001b[39m'\u001b[39m]\n\u001b[1;32m    444\u001b[0m \u001b[39mwhile\u001b[39;00m \u001b[39mnot\u001b[39;00m responses:\n",
      "\u001b[0;31mOSError\u001b[0m: [Errno 51] Network is unreachable"
     ]
    }
   ],
   "source": [
    "drone.takeoff()"
   ]
  },
  {
   "cell_type": "code",
   "execution_count": 5,
   "metadata": {},
   "outputs": [
    {
     "name": "stderr",
     "output_type": "stream",
     "text": [
      "[INFO] tello.py - 437 - Send command: 'streamon'\n",
      "[WARNING] tello.py - 447 - Aborting command 'streamon'. Did not receive a response after 7 seconds\n",
      "[INFO] tello.py - 437 - Send command: 'streamon'\n",
      "[WARNING] tello.py - 447 - Aborting command 'streamon'. Did not receive a response after 7 seconds\n",
      "[INFO] tello.py - 437 - Send command: 'streamon'\n",
      "[WARNING] tello.py - 447 - Aborting command 'streamon'. Did not receive a response after 7 seconds\n"
     ]
    },
    {
     "ename": "Exception",
     "evalue": "Command 'streamon' was unsuccessful for 4 tries. Latest response:\t'Aborting command 'streamon'. Did not receive a response after 7 seconds'",
     "output_type": "error",
     "traceback": [
      "\u001b[0;31m---------------------------------------------------------------------------\u001b[0m",
      "\u001b[0;31mException\u001b[0m                                 Traceback (most recent call last)",
      "Cell \u001b[0;32mIn[5], line 1\u001b[0m\n\u001b[0;32m----> 1\u001b[0m drone\u001b[39m.\u001b[39;49mstreamon()\n\u001b[1;32m      2\u001b[0m drone\u001b[39m.\u001b[39mtakeoff()\n",
      "File \u001b[0;32m/opt/homebrew/lib/python3.10/site-packages/djitellopy/enforce_types.py:54\u001b[0m, in \u001b[0;36menforce_types.<locals>.decorate.<locals>.wrapper\u001b[0;34m(*args, **kwargs)\u001b[0m\n\u001b[1;32m     51\u001b[0m \u001b[39m@wraps\u001b[39m(func)\n\u001b[1;32m     52\u001b[0m \u001b[39mdef\u001b[39;00m \u001b[39mwrapper\u001b[39m(\u001b[39m*\u001b[39margs, \u001b[39m*\u001b[39m\u001b[39m*\u001b[39mkwargs):\n\u001b[1;32m     53\u001b[0m     check_types(spec, \u001b[39m*\u001b[39margs, \u001b[39m*\u001b[39m\u001b[39m*\u001b[39mkwargs)\n\u001b[0;32m---> 54\u001b[0m     \u001b[39mreturn\u001b[39;00m func(\u001b[39m*\u001b[39;49margs, \u001b[39m*\u001b[39;49m\u001b[39m*\u001b[39;49mkwargs)\n",
      "File \u001b[0;32m/opt/homebrew/lib/python3.10/site-packages/djitellopy/tello.py:593\u001b[0m, in \u001b[0;36mTello.streamon\u001b[0;34m(self)\u001b[0m\n\u001b[1;32m    582\u001b[0m \u001b[39mdef\u001b[39;00m \u001b[39mstreamon\u001b[39m(\u001b[39mself\u001b[39m):\n\u001b[1;32m    583\u001b[0m \u001b[39m    \u001b[39m\u001b[39m\"\"\"Turn on video streaming. Use `tello.get_frame_read` afterwards.\u001b[39;00m\n\u001b[1;32m    584\u001b[0m \u001b[39m    Video Streaming is supported on all tellos when in AP mode (i.e.\u001b[39;00m\n\u001b[1;32m    585\u001b[0m \u001b[39m    when your computer is connected to Tello-XXXXXX WiFi ntwork).\u001b[39;00m\n\u001b[0;32m   (...)\u001b[0m\n\u001b[1;32m    591\u001b[0m \u001b[39m        firmware. This can be done using the official Tello app.\u001b[39;00m\n\u001b[1;32m    592\u001b[0m \u001b[39m    \"\"\"\u001b[39;00m\n\u001b[0;32m--> 593\u001b[0m     \u001b[39mself\u001b[39;49m\u001b[39m.\u001b[39;49msend_control_command(\u001b[39m\"\u001b[39;49m\u001b[39mstreamon\u001b[39;49m\u001b[39m\"\u001b[39;49m)\n\u001b[1;32m    594\u001b[0m     \u001b[39mself\u001b[39m\u001b[39m.\u001b[39mstream_on \u001b[39m=\u001b[39m \u001b[39mTrue\u001b[39;00m\n",
      "File \u001b[0;32m/opt/homebrew/lib/python3.10/site-packages/djitellopy/enforce_types.py:54\u001b[0m, in \u001b[0;36menforce_types.<locals>.decorate.<locals>.wrapper\u001b[0;34m(*args, **kwargs)\u001b[0m\n\u001b[1;32m     51\u001b[0m \u001b[39m@wraps\u001b[39m(func)\n\u001b[1;32m     52\u001b[0m \u001b[39mdef\u001b[39;00m \u001b[39mwrapper\u001b[39m(\u001b[39m*\u001b[39margs, \u001b[39m*\u001b[39m\u001b[39m*\u001b[39mkwargs):\n\u001b[1;32m     53\u001b[0m     check_types(spec, \u001b[39m*\u001b[39margs, \u001b[39m*\u001b[39m\u001b[39m*\u001b[39mkwargs)\n\u001b[0;32m---> 54\u001b[0m     \u001b[39mreturn\u001b[39;00m func(\u001b[39m*\u001b[39;49margs, \u001b[39m*\u001b[39;49m\u001b[39m*\u001b[39;49mkwargs)\n",
      "File \u001b[0;32m/opt/homebrew/lib/python3.10/site-packages/djitellopy/tello.py:486\u001b[0m, in \u001b[0;36mTello.send_control_command\u001b[0;34m(self, command, timeout)\u001b[0m\n\u001b[1;32m    482\u001b[0m         \u001b[39mreturn\u001b[39;00m \u001b[39mTrue\u001b[39;00m\n\u001b[1;32m    484\u001b[0m     \u001b[39mself\u001b[39m\u001b[39m.\u001b[39mLOGGER\u001b[39m.\u001b[39mdebug(\u001b[39m\"\u001b[39m\u001b[39mCommand attempt #\u001b[39m\u001b[39m{}\u001b[39;00m\u001b[39m failed for command: \u001b[39m\u001b[39m'\u001b[39m\u001b[39m{}\u001b[39;00m\u001b[39m'\u001b[39m\u001b[39m\"\u001b[39m\u001b[39m.\u001b[39mformat(i, command))\n\u001b[0;32m--> 486\u001b[0m \u001b[39mself\u001b[39;49m\u001b[39m.\u001b[39;49mraise_result_error(command, response)\n\u001b[1;32m    487\u001b[0m \u001b[39mreturn\u001b[39;00m \u001b[39mFalse\u001b[39;00m\n",
      "File \u001b[0;32m/opt/homebrew/lib/python3.10/site-packages/djitellopy/enforce_types.py:54\u001b[0m, in \u001b[0;36menforce_types.<locals>.decorate.<locals>.wrapper\u001b[0;34m(*args, **kwargs)\u001b[0m\n\u001b[1;32m     51\u001b[0m \u001b[39m@wraps\u001b[39m(func)\n\u001b[1;32m     52\u001b[0m \u001b[39mdef\u001b[39;00m \u001b[39mwrapper\u001b[39m(\u001b[39m*\u001b[39margs, \u001b[39m*\u001b[39m\u001b[39m*\u001b[39mkwargs):\n\u001b[1;32m     53\u001b[0m     check_types(spec, \u001b[39m*\u001b[39margs, \u001b[39m*\u001b[39m\u001b[39m*\u001b[39mkwargs)\n\u001b[0;32m---> 54\u001b[0m     \u001b[39mreturn\u001b[39;00m func(\u001b[39m*\u001b[39;49margs, \u001b[39m*\u001b[39;49m\u001b[39m*\u001b[39;49mkwargs)\n",
      "File \u001b[0;32m/opt/homebrew/lib/python3.10/site-packages/djitellopy/tello.py:528\u001b[0m, in \u001b[0;36mTello.raise_result_error\u001b[0;34m(self, command, response)\u001b[0m\n\u001b[1;32m    524\u001b[0m \u001b[39m\u001b[39m\u001b[39m\"\"\"Used to reaise an error after an unsuccessful command\u001b[39;00m\n\u001b[1;32m    525\u001b[0m \u001b[39mInternal method, you normally wouldn't call this yourself.\u001b[39;00m\n\u001b[1;32m    526\u001b[0m \u001b[39m\"\"\"\u001b[39;00m\n\u001b[1;32m    527\u001b[0m tries \u001b[39m=\u001b[39m \u001b[39m1\u001b[39m \u001b[39m+\u001b[39m \u001b[39mself\u001b[39m\u001b[39m.\u001b[39mretry_count\n\u001b[0;32m--> 528\u001b[0m \u001b[39mraise\u001b[39;00m \u001b[39mException\u001b[39;00m(\u001b[39m\"\u001b[39m\u001b[39mCommand \u001b[39m\u001b[39m'\u001b[39m\u001b[39m{}\u001b[39;00m\u001b[39m'\u001b[39m\u001b[39m was unsuccessful for \u001b[39m\u001b[39m{}\u001b[39;00m\u001b[39m tries. Latest response:\u001b[39m\u001b[39m\\t\u001b[39;00m\u001b[39m'\u001b[39m\u001b[39m{}\u001b[39;00m\u001b[39m'\u001b[39m\u001b[39m\"\u001b[39m\n\u001b[1;32m    529\u001b[0m                 \u001b[39m.\u001b[39mformat(command, tries, response))\n",
      "\u001b[0;31mException\u001b[0m: Command 'streamon' was unsuccessful for 4 tries. Latest response:\t'Aborting command 'streamon'. Did not receive a response after 7 seconds'"
     ]
    }
   ],
   "source": [
    "drone.streamon()\n",
    "drone.takeoff()"
   ]
  },
  {
   "cell_type": "code",
   "execution_count": 6,
   "metadata": {},
   "outputs": [
    {
     "name": "stderr",
     "output_type": "stream",
     "text": [
      "[INFO] tello.py - 437 - Send command: 'takeoff'\n"
     ]
    },
    {
     "ename": "KeyboardInterrupt",
     "evalue": "",
     "output_type": "error",
     "traceback": [
      "\u001b[0;31m---------------------------------------------------------------------------\u001b[0m",
      "\u001b[0;31mKeyboardInterrupt\u001b[0m                         Traceback (most recent call last)",
      "Cell \u001b[0;32mIn[6], line 1\u001b[0m\n\u001b[0;32m----> 1\u001b[0m drone\u001b[39m.\u001b[39;49mtakeoff()\n",
      "File \u001b[0;32m/opt/homebrew/lib/python3.10/site-packages/djitellopy/enforce_types.py:54\u001b[0m, in \u001b[0;36menforce_types.<locals>.decorate.<locals>.wrapper\u001b[0;34m(*args, **kwargs)\u001b[0m\n\u001b[1;32m     51\u001b[0m \u001b[39m@wraps\u001b[39m(func)\n\u001b[1;32m     52\u001b[0m \u001b[39mdef\u001b[39;00m \u001b[39mwrapper\u001b[39m(\u001b[39m*\u001b[39margs, \u001b[39m*\u001b[39m\u001b[39m*\u001b[39mkwargs):\n\u001b[1;32m     53\u001b[0m     check_types(spec, \u001b[39m*\u001b[39margs, \u001b[39m*\u001b[39m\u001b[39m*\u001b[39mkwargs)\n\u001b[0;32m---> 54\u001b[0m     \u001b[39mreturn\u001b[39;00m func(\u001b[39m*\u001b[39;49margs, \u001b[39m*\u001b[39;49m\u001b[39m*\u001b[39;49mkwargs)\n",
      "File \u001b[0;32m/opt/homebrew/lib/python3.10/site-packages/djitellopy/tello.py:573\u001b[0m, in \u001b[0;36mTello.takeoff\u001b[0;34m(self)\u001b[0m\n\u001b[1;32m    569\u001b[0m \u001b[39m\u001b[39m\u001b[39m\"\"\"Automatic takeoff.\u001b[39;00m\n\u001b[1;32m    570\u001b[0m \u001b[39m\"\"\"\u001b[39;00m\n\u001b[1;32m    571\u001b[0m \u001b[39m# Something it takes a looooot of time to take off and return a succesful takeoff.\u001b[39;00m\n\u001b[1;32m    572\u001b[0m \u001b[39m# So we better wait. Otherwise, it would give us an error on the following calls.\u001b[39;00m\n\u001b[0;32m--> 573\u001b[0m \u001b[39mself\u001b[39;49m\u001b[39m.\u001b[39;49msend_control_command(\u001b[39m\"\u001b[39;49m\u001b[39mtakeoff\u001b[39;49m\u001b[39m\"\u001b[39;49m, timeout\u001b[39m=\u001b[39;49mTello\u001b[39m.\u001b[39;49mTAKEOFF_TIMEOUT)\n\u001b[1;32m    574\u001b[0m \u001b[39mself\u001b[39m\u001b[39m.\u001b[39mis_flying \u001b[39m=\u001b[39m \u001b[39mTrue\u001b[39;00m\n",
      "File \u001b[0;32m/opt/homebrew/lib/python3.10/site-packages/djitellopy/enforce_types.py:54\u001b[0m, in \u001b[0;36menforce_types.<locals>.decorate.<locals>.wrapper\u001b[0;34m(*args, **kwargs)\u001b[0m\n\u001b[1;32m     51\u001b[0m \u001b[39m@wraps\u001b[39m(func)\n\u001b[1;32m     52\u001b[0m \u001b[39mdef\u001b[39;00m \u001b[39mwrapper\u001b[39m(\u001b[39m*\u001b[39margs, \u001b[39m*\u001b[39m\u001b[39m*\u001b[39mkwargs):\n\u001b[1;32m     53\u001b[0m     check_types(spec, \u001b[39m*\u001b[39margs, \u001b[39m*\u001b[39m\u001b[39m*\u001b[39mkwargs)\n\u001b[0;32m---> 54\u001b[0m     \u001b[39mreturn\u001b[39;00m func(\u001b[39m*\u001b[39;49margs, \u001b[39m*\u001b[39;49m\u001b[39m*\u001b[39;49mkwargs)\n",
      "File \u001b[0;32m/opt/homebrew/lib/python3.10/site-packages/djitellopy/tello.py:479\u001b[0m, in \u001b[0;36mTello.send_control_command\u001b[0;34m(self, command, timeout)\u001b[0m\n\u001b[1;32m    477\u001b[0m response \u001b[39m=\u001b[39m \u001b[39m\"\u001b[39m\u001b[39mmax retries exceeded\u001b[39m\u001b[39m\"\u001b[39m\n\u001b[1;32m    478\u001b[0m \u001b[39mfor\u001b[39;00m i \u001b[39min\u001b[39;00m \u001b[39mrange\u001b[39m(\u001b[39m0\u001b[39m, \u001b[39mself\u001b[39m\u001b[39m.\u001b[39mretry_count):\n\u001b[0;32m--> 479\u001b[0m     response \u001b[39m=\u001b[39m \u001b[39mself\u001b[39;49m\u001b[39m.\u001b[39;49msend_command_with_return(command, timeout\u001b[39m=\u001b[39;49mtimeout)\n\u001b[1;32m    481\u001b[0m     \u001b[39mif\u001b[39;00m \u001b[39m'\u001b[39m\u001b[39mok\u001b[39m\u001b[39m'\u001b[39m \u001b[39min\u001b[39;00m response\u001b[39m.\u001b[39mlower():\n\u001b[1;32m    482\u001b[0m         \u001b[39mreturn\u001b[39;00m \u001b[39mTrue\u001b[39;00m\n",
      "File \u001b[0;32m/opt/homebrew/lib/python3.10/site-packages/djitellopy/enforce_types.py:54\u001b[0m, in \u001b[0;36menforce_types.<locals>.decorate.<locals>.wrapper\u001b[0;34m(*args, **kwargs)\u001b[0m\n\u001b[1;32m     51\u001b[0m \u001b[39m@wraps\u001b[39m(func)\n\u001b[1;32m     52\u001b[0m \u001b[39mdef\u001b[39;00m \u001b[39mwrapper\u001b[39m(\u001b[39m*\u001b[39margs, \u001b[39m*\u001b[39m\u001b[39m*\u001b[39mkwargs):\n\u001b[1;32m     53\u001b[0m     check_types(spec, \u001b[39m*\u001b[39margs, \u001b[39m*\u001b[39m\u001b[39m*\u001b[39mkwargs)\n\u001b[0;32m---> 54\u001b[0m     \u001b[39mreturn\u001b[39;00m func(\u001b[39m*\u001b[39;49margs, \u001b[39m*\u001b[39;49m\u001b[39m*\u001b[39;49mkwargs)\n",
      "File \u001b[0;32m/opt/homebrew/lib/python3.10/site-packages/djitellopy/tello.py:449\u001b[0m, in \u001b[0;36mTello.send_command_with_return\u001b[0;34m(self, command, timeout)\u001b[0m\n\u001b[1;32m    447\u001b[0m         \u001b[39mself\u001b[39m\u001b[39m.\u001b[39mLOGGER\u001b[39m.\u001b[39mwarning(message)\n\u001b[1;32m    448\u001b[0m         \u001b[39mreturn\u001b[39;00m message\n\u001b[0;32m--> 449\u001b[0m     time\u001b[39m.\u001b[39;49msleep(\u001b[39m0.1\u001b[39;49m)  \u001b[39m# Sleep during send command\u001b[39;00m\n\u001b[1;32m    451\u001b[0m \u001b[39mself\u001b[39m\u001b[39m.\u001b[39mlast_received_command_timestamp \u001b[39m=\u001b[39m time\u001b[39m.\u001b[39mtime()\n\u001b[1;32m    453\u001b[0m first_response \u001b[39m=\u001b[39m responses\u001b[39m.\u001b[39mpop(\u001b[39m0\u001b[39m)  \u001b[39m# first datum from socket\u001b[39;00m\n",
      "\u001b[0;31mKeyboardInterrupt\u001b[0m: "
     ]
    }
   ],
   "source": [
    "drone.takeoff()"
   ]
  },
  {
   "cell_type": "code",
   "execution_count": 32,
   "metadata": {},
   "outputs": [],
   "source": [
    "def query_the_environment(drone, question):\n",
    "    image = drone.get_frame_read().frame\n",
    "    encoding = processor(image, question, return_tensors=\"pt\")\n",
    "    outputs = model(**encoding)\n",
    "    logits = outputs.logits\n",
    "    idx = torch.sigmoid(logits).argmax(-1).item()\n",
    "    return str(model.config.id2label[idx])\n"
   ]
  },
  {
   "cell_type": "code",
   "execution_count": 33,
   "metadata": {},
   "outputs": [],
   "source": [
    "# Generate next action prompt\n",
    "def next_action_prompt(prompt_template, objective, environment_context, previous_commands, previous_context, vqa_questions):\n",
    "    prompt = prompt_template.replace(\"$objective\", objective)\n",
    "    prompt = prompt.replace(\"$context\", environment_context)\n",
    "    prompt = prompt.replace(\"$previous_commands\", previous_commands)\n",
    "    prompt = prompt.replace(\"$previous_context\", previous_context)\n",
    "    prompt = prompt.replace(\"$vqa_questions\", vqa_questions)\n",
    "    return prompt, [\"\\n\"] # prompt and stop token"
   ]
  },
  {
   "cell_type": "code",
   "execution_count": 34,
   "metadata": {},
   "outputs": [],
   "source": [
    "def prompt(prompt, stop_tokens):\n",
    "    response = openai.Completion.create(\n",
    "        engine=\"text-davinci-003\",\n",
    "        prompt=prompt,\n",
    "        temperature=0.5,\n",
    "        max_tokens=1000,\n",
    "        top_p=1,\n",
    "        frequency_penalty=0,\n",
    "        presence_penalty=0,\n",
    "        best_of=10,\n",
    "        stop=stop_tokens,\n",
    "    )\n",
    "    return response.choices[0].text"
   ]
  },
  {
   "cell_type": "code",
   "execution_count": 35,
   "metadata": {},
   "outputs": [],
   "source": [
    "def get_vqa_questions(vqa_prompt_template, objective):\n",
    "    prompt_text = vqa_prompt_template.replace(\"$objective\", objective)\n",
    "    result = prompt(prompt_text, [\"&&&&&&\"])\n",
    "    matches = re.findall(r'@(.+?)@', result)\n",
    "    return matches\n"
   ]
  },
  {
   "cell_type": "code",
   "execution_count": 36,
   "metadata": {},
   "outputs": [
    {
     "data": {
      "text/plain": [
       "['Is there a person in the image?', 'Is there a blue cap in the image?']"
      ]
     },
     "execution_count": 36,
     "metadata": {},
     "output_type": "execute_result"
    }
   ],
   "source": [
    "get_vqa_questions(vqa_prompt_template, objective)"
   ]
  },
  {
   "cell_type": "code",
   "execution_count": null,
   "metadata": {},
   "outputs": [],
   "source": [
    "def explore(drone, use_gpt=False, prompt_template=explore_template):\n",
    "    if use_gpt:\n",
    "       prompt(prompt_template)\n",
    "    else:\n",
    "        import random as r\n",
    "        # randomly generate a number between 45 and 180\n",
    "        random_angle = r.randint(45, 180)\n",
    "        # randomly generate a number between 5 and 20\n",
    "        random_distance = r.randint(5, 20)\n",
    "        actions = [(drone.move_left, random_distance), (drone.move_right, random_distance), (drone.rotate_clockwise, random_angle), (drone.rotate_counter_clockwise, random_angle), (drone.move_forward, random_distance), (drone.move_back, random_distance)]\n",
    "\n",
    "        # sample 3 actions\n",
    "        sampled_actions = r.sample(actions, 3)\n",
    "        for action in sampled_actions:\n",
    "            action[0](action[1])\n",
    "            time.sleep(0.5)\n"
   ]
  },
  {
   "cell_type": "code",
   "execution_count": 1,
   "metadata": {},
   "outputs": [
    {
     "ename": "NameError",
     "evalue": "name 'explore_template' is not defined",
     "output_type": "error",
     "traceback": [
      "\u001b[0;31m---------------------------------------------------------------------------\u001b[0m",
      "\u001b[0;31mNameError\u001b[0m                                 Traceback (most recent call last)",
      "Cell \u001b[0;32mIn[1], line 28\u001b[0m\n\u001b[1;32m     24\u001b[0m     \u001b[39mreturn\u001b[39;00m(center_x, center_y)\n\u001b[1;32m     27\u001b[0m \u001b[39m# Exploit Function: Input we have a bounding box with 4 corners (or 1 corner + length and width for a more compact representation)\u001b[39;00m\n\u001b[0;32m---> 28\u001b[0m \u001b[39mdef\u001b[39;00m \u001b[39mexploit\u001b[39m(drone, bbox, use_gpt \u001b[39m=\u001b[39m \u001b[39mFalse\u001b[39;00m, prompt_template \u001b[39m=\u001b[39m explore_template):\n\u001b[1;32m     29\u001b[0m     \u001b[39mif\u001b[39;00m use_gpt:\n\u001b[1;32m     30\u001b[0m         prompt(prompt_template)\n",
      "\u001b[0;31mNameError\u001b[0m: name 'explore_template' is not defined"
     ]
    }
   ],
   "source": [
    "# Get the 4 points of a bounding box\n",
    "def find_corners(upper_left, length: float, width: float):\n",
    "    corners = []\n",
    "    \n",
    "    upper_right = (upper_left[0] + length, upper_left[1])\n",
    "    lower_left =  (upper_left[0], upper_left[1] + width)\n",
    "    lower_right = (upper_left[0] + length, upper_left[1] + width)\n",
    "    \n",
    "    corners.append(upper_left)\n",
    "    corners.append(upper_right)\n",
    "    corners.append(lower_left)\n",
    "    corners.append(lower_right)\n",
    "    \n",
    "    return corners\n",
    "    \n",
    "# Find the center of a bounding box\n",
    "def find_center(corners):\n",
    "    upper_left, upper_right, lower_left, lower_right = corners\n",
    "    \n",
    "    # create diagonal using upper left and lower right\n",
    "    center_x = (upper_left[0] + upper_right[0]) / 2\n",
    "    center_y = (upper_left[1] + lower_right[1]) / 2\n",
    "    \n",
    "    return(center_x, center_y)\n",
    "\n",
    "\n",
    "# Exploit Function: Input we have a bounding box with 4 corners (or 1 corner + length and width for a more compact representation)\n",
    "def exploit(drone, bbox, use_gpt = False, prompt_template = explore_template):\n",
    "    if use_gpt:\n",
    "        prompt(prompt_template)\n",
    "        \n",
    "    distance_to_object = None\n",
    "    angle_to_object = None\n",
    "    height_to_object = None\n",
    "    actions = [\n",
    "        (drone.move_left, distance_to_object),\n",
    "        (drone.move_right, distance_to_object),\n",
    "        (drone.rotate_clockwise, angle_to_object),\n",
    "        (drone.rotate_counter_clockwise, angle_to_object),\n",
    "        (drone.move_forward, distance_to_object),\n",
    "        (drone.move_back, distance_to_object) \n",
    "    ]\n",
    "        \n",
    "    # Step 1: Find out whether or not the drone is facing the object\n",
    "    object_in_frame = False\n",
    "    while object_in_frame == False:\n",
    "        drone.rotate_clockwise(30)\n",
    "    \n",
    "    \n",
    "    # Step 2: Translate the object to the center\n",
    "    bounding_box_center = find_center(bbox)\n",
    "    current_image = drone.get_frame_read().frame\n",
    "    height, width, channel = current_image.shape\n",
    "    frame_center = (width / 2, height / 2)\n",
    "    \n",
    "    delta_y = frame_center[1] - bounding_box_center[1]\n",
    "    delta_x = frame_center[0] - bounding_box_center[0]\n",
    "    \n",
    "    if delta_y < 0:\n",
    "        drone.move_up(abs(delta_y))\n",
    "    else:\n",
    "        drone.move_down(abs(delta_y))\n",
    "    \n",
    "    if delta_x < 0:\n",
    "        drone.move_left(abs(delta_x))\n",
    "    else:\n",
    "        drone.move_right(abs(delta_x))\n",
    "    \n",
    "    # Step 3: Zoom In (move towards the object)\n",
    "    bbox_length = bbox[1][0] - bbox[0][0]\n",
    "    bbox_width = bbox[1][1] - bbox[0][1]\n",
    "    \n",
    "    while bbox_width <= width or bbox_length <= height:\n",
    "        drone.move_forward(10)\n",
    "    \n",
    "    # Step 4: Terminate\n",
    "    return"
   ]
  },
  {
   "cell_type": "code",
   "execution_count": null,
   "metadata": {},
   "outputs": [],
   "source": []
  }
 ],
 "metadata": {
  "kernelspec": {
   "display_name": "Python 3",
   "language": "python",
   "name": "python3"
  },
  "language_info": {
   "codemirror_mode": {
    "name": "ipython",
    "version": 3
   },
   "file_extension": ".py",
   "mimetype": "text/x-python",
   "name": "python",
   "nbconvert_exporter": "python",
   "pygments_lexer": "ipython3",
   "version": "3.10.6"
  },
  "orig_nbformat": 4,
  "vscode": {
   "interpreter": {
    "hash": "b0fa6594d8f4cbf19f97940f81e996739fb7646882a419484c72d19e05852a7e"
   }
  }
 },
 "nbformat": 4,
 "nbformat_minor": 2
}
