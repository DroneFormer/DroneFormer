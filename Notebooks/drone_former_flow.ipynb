{
 "cells": [
  {
   "cell_type": "code",
   "execution_count": 1,
   "metadata": {},
   "outputs": [
    {
     "name": "stderr",
     "output_type": "stream",
     "text": [
      "/opt/homebrew/lib/python3.10/site-packages/tqdm/auto.py:22: TqdmWarning: IProgress not found. Please update jupyter and ipywidgets. See https://ipywidgets.readthedocs.io/en/stable/user_install.html\n",
      "  from .autonotebook import tqdm as notebook_tqdm\n"
     ]
    },
    {
     "name": "stdout",
     "output_type": "stream",
     "text": [
      "Imported all modules\n"
     ]
    }
   ],
   "source": [
    "import time, cv2, sys, os, torch\n",
    "from threading import Thread\n",
    "from djitellopy import Tello\n",
    "import openai\n",
    "\n",
    "# load environment variables\n",
    "from dotenv import load_dotenv\n",
    "load_dotenv()\n",
    "\n",
    "openai.api_key = os.getenv(\"OPENAI_API_KEY\")\n",
    "\n",
    "module_path = os.path.abspath(os.path.join('..'))\n",
    "if module_path not in sys.path:\n",
    "    sys.path.append(module_path+\"/prompts/\")\n",
    "\n",
    "# from vqa_question.v1 import prompt_template as vqa_prompt_template\n",
    "from drone_explore_prompt import prompt_template as explore_template\n",
    "from drone_next_action.v1 import prompt_template as drone_prompt_template\n",
    "\n",
    "module_path = os.path.abspath(os.path.join('..'))\n",
    "if module_path not in sys.path:\n",
    "    sys.path.append(module_path+\"/Scripts/\")\n",
    "\n",
    "from data_collection_utils import take_individual_picture, stream_video, stream_frames, record_streamed_frames\n",
    "\n",
    "print(\"Imported all modules\")\n"
   ]
  },
  {
   "cell_type": "code",
   "execution_count": null,
   "metadata": {},
   "outputs": [],
   "source": [
    "from transformers import ViltProcessor, ViltForQuestionAnswering\n",
    "\n",
    "processor = ViltProcessor.from_pretrained(\"dandelin/vilt-b32-finetuned-vqa\")\n",
    "model = ViltForQuestionAnswering.from_pretrained(\"dandelin/vilt-b32-finetuned-vqa\")"
   ]
  },
  {
   "cell_type": "code",
   "execution_count": null,
   "metadata": {},
   "outputs": [],
   "source": [
    "drone = Tello()"
   ]
  },
  {
   "cell_type": "code",
   "execution_count": null,
   "metadata": {},
   "outputs": [],
   "source": [
    "objective = \"Find the person who is wearing a blue cap\""
   ]
  },
  {
   "cell_type": "code",
   "execution_count": null,
   "metadata": {},
   "outputs": [],
   "source": [
    "drone.streamon()\n",
    "drone.takeoff()"
   ]
  },
  {
   "cell_type": "code",
   "execution_count": null,
   "metadata": {},
   "outputs": [],
   "source": [
    "def query_the_environment(drone, question):\n",
    "    image = drone.get_frame_read().frame\n",
    "    encoding = processor(image, question, return_tensors=\"pt\")\n",
    "    outputs = model(**encoding)\n",
    "    logits = outputs.logits\n",
    "    idx = torch.sigmoid(logits).argmax(-1).item()\n",
    "    return str(model.config.id2label[idx])\n"
   ]
  },
  {
   "cell_type": "code",
   "execution_count": null,
   "metadata": {},
   "outputs": [],
   "source": [
    "# Generate next action prompt\n",
    "def next_action_prompt(prompt_template, objective, environment_context, previous_command=None):\n",
    "    prompt = prompt_template.format(objective=objective, environment_context=environment_context, previous_command=previous_command)\n",
    "    return prompt"
   ]
  },
  {
   "cell_type": "code",
   "execution_count": 2,
   "metadata": {},
   "outputs": [],
   "source": [
    "def prompt(prompt):\n",
    "    response = openai.Completion.create(\n",
    "        engine=\"text-davinci-003\",\n",
    "        prompt=prompt,\n",
    "        temperature=0.5,\n",
    "        max_tokens=300,\n",
    "        top_p=1,\n",
    "        frequency_penalty=0,\n",
    "        presence_penalty=0,\n",
    "        best_of=10,\n",
    "        stop=[\"\\n\"]\n",
    "    )\n",
    "    return response.choices[0].text"
   ]
  },
  {
   "cell_type": "code",
   "execution_count": null,
   "metadata": {},
   "outputs": [],
   "source": [
    "def explore(drone, use_gpt=False, prompt_template=explore_template):\n",
    "    if use_gpt:\n",
    "       prompt(prompt_template)\n",
    "    else:\n",
    "        import random as r\n",
    "        # randomly generate a number between 45 and 180\n",
    "        random_angle = r.randint(45, 180)\n",
    "        # randomly generate a number between 5 and 20\n",
    "        random_distance = r.randint(5, 20)\n",
    "        actions = [(drone.move_left, random_distance), (drone.move_right, random_distance), (drone.rotate_clockwise, random_angle), (drone.rotate_counter_clockwise, random_angle), (drone.move_forward, random_distance), (drone.move_back, random_distance)]\n",
    "\n",
    "        # sample 3 actions\n",
    "        sampled_actions = r.sample(actions, 3)\n",
    "        for action in sampled_actions:\n",
    "            action[0](action[1])\n",
    "            time.sleep(0.5)\n"
   ]
  }
 ],
 "metadata": {
  "kernelspec": {
   "display_name": "Python 3",
   "language": "python",
   "name": "python3"
  },
  "language_info": {
   "codemirror_mode": {
    "name": "ipython",
    "version": 3
   },
   "file_extension": ".py",
   "mimetype": "text/x-python",
   "name": "python",
   "nbconvert_exporter": "python",
   "pygments_lexer": "ipython3",
   "version": "3.10.6"
  },
  "orig_nbformat": 4,
  "vscode": {
   "interpreter": {
    "hash": "b0fa6594d8f4cbf19f97940f81e996739fb7646882a419484c72d19e05852a7e"
   }
  }
 },
 "nbformat": 4,
 "nbformat_minor": 2
}
