{
 "cells": [
  {
   "cell_type": "code",
   "execution_count": 1,
   "metadata": {},
   "outputs": [
    {
     "name": "stderr",
     "output_type": "stream",
     "text": [
      "/opt/homebrew/lib/python3.10/site-packages/tqdm/auto.py:22: TqdmWarning: IProgress not found. Please update jupyter and ipywidgets. See https://ipywidgets.readthedocs.io/en/stable/user_install.html\n",
      "  from .autonotebook import tqdm as notebook_tqdm\n"
     ]
    },
    {
     "name": "stdout",
     "output_type": "stream",
     "text": [
      "Imported all modules\n"
     ]
    }
   ],
   "source": [
    "import time, cv2, sys, os, torch\n",
    "from threading import Thread\n",
    "from djitellopy import Tello\n",
    "import openai\n",
    "import re\n",
    "\n",
    "# load environment variables\n",
    "from dotenv import load_dotenv\n",
    "load_dotenv()\n",
    "\n",
    "openai.api_key = os.getenv(\"OPENAI_API_KEY\")\n",
    "\n",
    "module_path = os.path.abspath(os.path.join('..'))\n",
    "if module_path not in sys.path:\n",
    "    sys.path.append(module_path+\"/prompts/\")\n",
    "\n",
    "from vqa_question.v1 import prompt_template as vqa_prompt_template\n",
    "from drone_explore_prompt import prompt_template as explore_template\n",
    "from drone_next_action.v1 import prompt_template as drone_prompt_template\n",
    "\n",
    "module_path = os.path.abspath(os.path.join('..'))\n",
    "if module_path not in sys.path:\n",
    "    sys.path.append(module_path+\"/Scripts/\")\n",
    "\n",
    "from data_collection_utils import take_individual_picture, stream_video, stream_frames, record_streamed_frames\n",
    "\n",
    "print(\"Imported all modules\")\n"
   ]
  },
  {
   "cell_type": "code",
   "execution_count": 21,
   "metadata": {},
   "outputs": [],
   "source": [
    "from djitellopy import Tello"
   ]
  },
  {
   "cell_type": "code",
   "execution_count": 2,
   "metadata": {},
   "outputs": [
    {
     "name": "stderr",
     "output_type": "stream",
     "text": [
      "/opt/homebrew/lib/python3.10/site-packages/tqdm/auto.py:22: TqdmWarning: IProgress not found. Please update jupyter and ipywidgets. See https://ipywidgets.readthedocs.io/en/stable/user_install.html\n",
      "  from .autonotebook import tqdm as notebook_tqdm\n"
     ]
    }
   ],
   "source": [
    "from transformers import ViltProcessor, ViltForQuestionAnswering\n",
    "\n",
    "processor = ViltProcessor.from_pretrained(\"dandelin/vilt-b32-finetuned-vqa\")\n",
    "model = ViltForQuestionAnswering.from_pretrained(\"dandelin/vilt-b32-finetuned-vqa\")"
   ]
  },
  {
   "cell_type": "code",
   "execution_count": 22,
   "metadata": {},
   "outputs": [
    {
     "name": "stderr",
     "output_type": "stream",
     "text": [
      "[INFO] tello.py - 122 - Tello instance was initialized. Host: '192.168.10.1'. Port: '8889'.\n"
     ]
    }
   ],
   "source": [
    "drone = Tello()"
   ]
  },
  {
   "cell_type": "code",
   "execution_count": 36,
   "metadata": {},
   "outputs": [
    {
     "data": {
      "text/plain": [
       "'192.168.10.1'"
      ]
     },
     "execution_count": 36,
     "metadata": {},
     "output_type": "execute_result"
    }
   ],
   "source": [
    "drone.TELLO_IP"
   ]
  },
  {
   "cell_type": "code",
   "execution_count": 33,
   "metadata": {},
   "outputs": [
    {
     "ename": "KeyError",
     "evalue": "'192.168.10.1'",
     "output_type": "error",
     "traceback": [
      "\u001b[0;31m---------------------------------------------------------------------------\u001b[0m",
      "\u001b[0;31mKeyError\u001b[0m                                  Traceback (most recent call last)",
      "Cell \u001b[0;32mIn[33], line 1\u001b[0m\n\u001b[0;32m----> 1\u001b[0m drone\u001b[39m.\u001b[39;49mget_distance_tof()\n",
      "File \u001b[0;32m/opt/homebrew/lib/python3.10/site-packages/djitellopy/enforce_types.py:54\u001b[0m, in \u001b[0;36menforce_types.<locals>.decorate.<locals>.wrapper\u001b[0;34m(*args, **kwargs)\u001b[0m\n\u001b[1;32m     51\u001b[0m \u001b[39m@wraps\u001b[39m(func)\n\u001b[1;32m     52\u001b[0m \u001b[39mdef\u001b[39;00m \u001b[39mwrapper\u001b[39m(\u001b[39m*\u001b[39margs, \u001b[39m*\u001b[39m\u001b[39m*\u001b[39mkwargs):\n\u001b[1;32m     53\u001b[0m     check_types(spec, \u001b[39m*\u001b[39margs, \u001b[39m*\u001b[39m\u001b[39m*\u001b[39mkwargs)\n\u001b[0;32m---> 54\u001b[0m     \u001b[39mreturn\u001b[39;00m func(\u001b[39m*\u001b[39;49margs, \u001b[39m*\u001b[39;49m\u001b[39m*\u001b[39;49mkwargs)\n",
      "File \u001b[0;32m/opt/homebrew/lib/python3.10/site-packages/djitellopy/tello.py:365\u001b[0m, in \u001b[0;36mTello.get_distance_tof\u001b[0;34m(self)\u001b[0m\n\u001b[1;32m    360\u001b[0m \u001b[39mdef\u001b[39;00m \u001b[39mget_distance_tof\u001b[39m(\u001b[39mself\u001b[39m) \u001b[39m-\u001b[39m\u001b[39m>\u001b[39m \u001b[39mint\u001b[39m:\n\u001b[1;32m    361\u001b[0m \u001b[39m    \u001b[39m\u001b[39m\"\"\"Get current distance value from TOF in cm\u001b[39;00m\n\u001b[1;32m    362\u001b[0m \u001b[39m    Returns:\u001b[39;00m\n\u001b[1;32m    363\u001b[0m \u001b[39m        int: TOF distance in cm\u001b[39;00m\n\u001b[1;32m    364\u001b[0m \u001b[39m    \"\"\"\u001b[39;00m\n\u001b[0;32m--> 365\u001b[0m     \u001b[39mreturn\u001b[39;00m \u001b[39mself\u001b[39;49m\u001b[39m.\u001b[39;49mget_state_field(\u001b[39m'\u001b[39;49m\u001b[39mtof\u001b[39;49m\u001b[39m'\u001b[39;49m)\n",
      "File \u001b[0;32m/opt/homebrew/lib/python3.10/site-packages/djitellopy/enforce_types.py:54\u001b[0m, in \u001b[0;36menforce_types.<locals>.decorate.<locals>.wrapper\u001b[0;34m(*args, **kwargs)\u001b[0m\n\u001b[1;32m     51\u001b[0m \u001b[39m@wraps\u001b[39m(func)\n\u001b[1;32m     52\u001b[0m \u001b[39mdef\u001b[39;00m \u001b[39mwrapper\u001b[39m(\u001b[39m*\u001b[39margs, \u001b[39m*\u001b[39m\u001b[39m*\u001b[39mkwargs):\n\u001b[1;32m     53\u001b[0m     check_types(spec, \u001b[39m*\u001b[39margs, \u001b[39m*\u001b[39m\u001b[39m*\u001b[39mkwargs)\n\u001b[0;32m---> 54\u001b[0m     \u001b[39mreturn\u001b[39;00m func(\u001b[39m*\u001b[39;49margs, \u001b[39m*\u001b[39;49m\u001b[39m*\u001b[39;49mkwargs)\n",
      "File \u001b[0;32m/opt/homebrew/lib/python3.10/site-packages/djitellopy/tello.py:228\u001b[0m, in \u001b[0;36mTello.get_state_field\u001b[0;34m(self, key)\u001b[0m\n\u001b[1;32m    224\u001b[0m \u001b[39mdef\u001b[39;00m \u001b[39mget_state_field\u001b[39m(\u001b[39mself\u001b[39m, key: \u001b[39mstr\u001b[39m):\n\u001b[1;32m    225\u001b[0m \u001b[39m    \u001b[39m\u001b[39m\"\"\"Get a specific sate field by name.\u001b[39;00m\n\u001b[1;32m    226\u001b[0m \u001b[39m    Internal method, you normally wouldn't call this yourself.\u001b[39;00m\n\u001b[1;32m    227\u001b[0m \u001b[39m    \"\"\"\u001b[39;00m\n\u001b[0;32m--> 228\u001b[0m     state \u001b[39m=\u001b[39m \u001b[39mself\u001b[39;49m\u001b[39m.\u001b[39;49mget_current_state()\n\u001b[1;32m    230\u001b[0m     \u001b[39mif\u001b[39;00m key \u001b[39min\u001b[39;00m state:\n\u001b[1;32m    231\u001b[0m         \u001b[39mreturn\u001b[39;00m state[key]\n",
      "File \u001b[0;32m/opt/homebrew/lib/python3.10/site-packages/djitellopy/enforce_types.py:54\u001b[0m, in \u001b[0;36menforce_types.<locals>.decorate.<locals>.wrapper\u001b[0;34m(*args, **kwargs)\u001b[0m\n\u001b[1;32m     51\u001b[0m \u001b[39m@wraps\u001b[39m(func)\n\u001b[1;32m     52\u001b[0m \u001b[39mdef\u001b[39;00m \u001b[39mwrapper\u001b[39m(\u001b[39m*\u001b[39margs, \u001b[39m*\u001b[39m\u001b[39m*\u001b[39mkwargs):\n\u001b[1;32m     53\u001b[0m     check_types(spec, \u001b[39m*\u001b[39margs, \u001b[39m*\u001b[39m\u001b[39m*\u001b[39mkwargs)\n\u001b[0;32m---> 54\u001b[0m     \u001b[39mreturn\u001b[39;00m func(\u001b[39m*\u001b[39;49margs, \u001b[39m*\u001b[39;49m\u001b[39m*\u001b[39;49mkwargs)\n",
      "File \u001b[0;32m/opt/homebrew/lib/python3.10/site-packages/djitellopy/tello.py:222\u001b[0m, in \u001b[0;36mTello.get_current_state\u001b[0;34m(self)\u001b[0m\n\u001b[1;32m    217\u001b[0m \u001b[39mdef\u001b[39;00m \u001b[39mget_current_state\u001b[39m(\u001b[39mself\u001b[39m) \u001b[39m-\u001b[39m\u001b[39m>\u001b[39m \u001b[39mdict\u001b[39m:\n\u001b[1;32m    218\u001b[0m \u001b[39m    \u001b[39m\u001b[39m\"\"\"Call this function to attain the state of the Tello. Returns a dict\u001b[39;00m\n\u001b[1;32m    219\u001b[0m \u001b[39m    with all fields.\u001b[39;00m\n\u001b[1;32m    220\u001b[0m \u001b[39m    Internal method, you normally wouldn't call this yourself.\u001b[39;00m\n\u001b[1;32m    221\u001b[0m \u001b[39m    \"\"\"\u001b[39;00m\n\u001b[0;32m--> 222\u001b[0m     \u001b[39mreturn\u001b[39;00m \u001b[39mself\u001b[39;49m\u001b[39m.\u001b[39;49mget_own_udp_object()[\u001b[39m'\u001b[39m\u001b[39mstate\u001b[39m\u001b[39m'\u001b[39m]\n",
      "File \u001b[0;32m/opt/homebrew/lib/python3.10/site-packages/djitellopy/enforce_types.py:54\u001b[0m, in \u001b[0;36menforce_types.<locals>.decorate.<locals>.wrapper\u001b[0;34m(*args, **kwargs)\u001b[0m\n\u001b[1;32m     51\u001b[0m \u001b[39m@wraps\u001b[39m(func)\n\u001b[1;32m     52\u001b[0m \u001b[39mdef\u001b[39;00m \u001b[39mwrapper\u001b[39m(\u001b[39m*\u001b[39margs, \u001b[39m*\u001b[39m\u001b[39m*\u001b[39mkwargs):\n\u001b[1;32m     53\u001b[0m     check_types(spec, \u001b[39m*\u001b[39margs, \u001b[39m*\u001b[39m\u001b[39m*\u001b[39mkwargs)\n\u001b[0;32m---> 54\u001b[0m     \u001b[39mreturn\u001b[39;00m func(\u001b[39m*\u001b[39;49margs, \u001b[39m*\u001b[39;49m\u001b[39m*\u001b[39;49mkwargs)\n",
      "File \u001b[0;32m/opt/homebrew/lib/python3.10/site-packages/djitellopy/tello.py:132\u001b[0m, in \u001b[0;36mTello.get_own_udp_object\u001b[0;34m(self)\u001b[0m\n\u001b[1;32m    129\u001b[0m \u001b[39mglobal\u001b[39;00m drones\n\u001b[1;32m    131\u001b[0m host \u001b[39m=\u001b[39m \u001b[39mself\u001b[39m\u001b[39m.\u001b[39maddress[\u001b[39m0\u001b[39m]\n\u001b[0;32m--> 132\u001b[0m \u001b[39mreturn\u001b[39;00m drones[host]\n",
      "\u001b[0;31mKeyError\u001b[0m: '192.168.10.1'"
     ]
    }
   ],
   "source": [
    "drone.get_distance_tof()"
   ]
  },
  {
   "cell_type": "code",
   "execution_count": 16,
   "metadata": {},
   "outputs": [
    {
     "name": "stdout",
     "output_type": "stream",
     "text": [
      "__lt__\n",
      "__module__\n",
      "__ne__\n",
      "__new__\n",
      "__reduce__\n",
      "__reduce_ex__\n",
      "__repr__\n",
      "__setattr__\n",
      "__sizeof__\n",
      "__str__\n",
      "__subclasshook__\n",
      "__weakref__\n",
      "address\n",
      "background_frame_read\n",
      "cap\n",
      "connect\n",
      "connect_to_wifi\n",
      "curve_xyz_speed\n",
      "curve_xyz_speed_mid\n",
      "disable_mission_pads\n",
      "emergency\n",
      "enable_mission_pads\n",
      "end\n",
      "flip\n",
      "flip_back\n",
      "flip_forward\n",
      "flip_left\n",
      "flip_right\n",
      "get_acceleration_x\n",
      "get_acceleration_y\n",
      "get_acceleration_z\n",
      "get_barometer\n",
      "get_battery\n",
      "get_current_state\n",
      "get_distance_tof\n",
      "get_flight_time\n",
      "get_frame_read\n",
      "get_height\n",
      "get_highest_temperature\n",
      "get_lowest_temperature\n",
      "get_mission_pad_distance_x\n",
      "get_mission_pad_distance_y\n",
      "get_mission_pad_distance_z\n",
      "get_mission_pad_id\n",
      "get_own_udp_object\n",
      "get_pitch\n",
      "get_roll\n",
      "get_speed_x\n",
      "get_speed_y\n",
      "get_speed_z\n",
      "get_state_field\n",
      "get_temperature\n",
      "get_udp_video_address\n",
      "get_video_capture\n",
      "get_yaw\n",
      "go_xyz_speed\n",
      "go_xyz_speed_mid\n",
      "go_xyz_speed_yaw_mid\n",
      "initiate_throw_takeoff\n",
      "is_flying\n",
      "land\n",
      "last_rc_control_timestamp\n",
      "last_received_command_timestamp\n",
      "move\n",
      "move_back\n",
      "move_down\n",
      "move_forward\n",
      "move_left\n",
      "move_right\n",
      "move_up\n",
      "parse_state\n",
      "query_active\n",
      "query_attitude\n",
      "query_barometer\n",
      "query_battery\n",
      "query_distance_tof\n",
      "query_flight_time\n",
      "query_height\n",
      "query_sdk_version\n",
      "query_serial_number\n",
      "query_speed\n",
      "query_temperature\n",
      "query_wifi_signal_noise_ratio\n",
      "raise_result_error\n",
      "reboot\n",
      "retry_count\n",
      "rotate_clockwise\n",
      "rotate_counter_clockwise\n",
      "send_command_with_return\n",
      "send_command_without_return\n",
      "send_control_command\n",
      "send_expansion_command\n",
      "send_keepalive\n",
      "send_rc_control\n",
      "send_read_command\n",
      "send_read_command_float\n",
      "send_read_command_int\n",
      "set_mission_pad_detection_direction\n",
      "set_network_ports\n",
      "set_speed\n",
      "set_video_bitrate\n",
      "set_video_direction\n",
      "set_video_fps\n",
      "set_video_resolution\n",
      "set_wifi_credentials\n",
      "state_field_converters\n",
      "stream_on\n",
      "streamoff\n",
      "streamon\n",
      "takeoff\n",
      "turn_motor_off\n",
      "turn_motor_on\n",
      "udp_response_receiver\n",
      "udp_state_receiver\n"
     ]
    }
   ],
   "source": [
    "for e in list(dir(drone))[45:]:\n",
    "    print(e)"
   ]
  },
  {
   "cell_type": "code",
   "execution_count": 3,
   "metadata": {},
   "outputs": [
    {
     "ename": "Exception",
     "evalue": "Could not get state property: bat",
     "output_type": "error",
     "traceback": [
      "\u001b[0;31m---------------------------------------------------------------------------\u001b[0m",
      "\u001b[0;31mException\u001b[0m                                 Traceback (most recent call last)",
      "Cell \u001b[0;32mIn[3], line 1\u001b[0m\n\u001b[0;32m----> 1\u001b[0m drone\u001b[39m.\u001b[39;49mget_battery()\n",
      "File \u001b[0;32m/opt/homebrew/lib/python3.10/site-packages/djitellopy/enforce_types.py:54\u001b[0m, in \u001b[0;36menforce_types.<locals>.decorate.<locals>.wrapper\u001b[0;34m(*args, **kwargs)\u001b[0m\n\u001b[1;32m     51\u001b[0m \u001b[39m@wraps\u001b[39m(func)\n\u001b[1;32m     52\u001b[0m \u001b[39mdef\u001b[39;00m \u001b[39mwrapper\u001b[39m(\u001b[39m*\u001b[39margs, \u001b[39m*\u001b[39m\u001b[39m*\u001b[39mkwargs):\n\u001b[1;32m     53\u001b[0m     check_types(spec, \u001b[39m*\u001b[39margs, \u001b[39m*\u001b[39m\u001b[39m*\u001b[39mkwargs)\n\u001b[0;32m---> 54\u001b[0m     \u001b[39mreturn\u001b[39;00m func(\u001b[39m*\u001b[39;49margs, \u001b[39m*\u001b[39;49m\u001b[39m*\u001b[39;49mkwargs)\n",
      "File \u001b[0;32m/opt/homebrew/lib/python3.10/site-packages/djitellopy/tello.py:388\u001b[0m, in \u001b[0;36mTello.get_battery\u001b[0;34m(self)\u001b[0m\n\u001b[1;32m    383\u001b[0m \u001b[39mdef\u001b[39;00m \u001b[39mget_battery\u001b[39m(\u001b[39mself\u001b[39m) \u001b[39m-\u001b[39m\u001b[39m>\u001b[39m \u001b[39mint\u001b[39m:\n\u001b[1;32m    384\u001b[0m \u001b[39m    \u001b[39m\u001b[39m\"\"\"Get current battery percentage\u001b[39;00m\n\u001b[1;32m    385\u001b[0m \u001b[39m    Returns:\u001b[39;00m\n\u001b[1;32m    386\u001b[0m \u001b[39m        int: 0-100\u001b[39;00m\n\u001b[1;32m    387\u001b[0m \u001b[39m    \"\"\"\u001b[39;00m\n\u001b[0;32m--> 388\u001b[0m     \u001b[39mreturn\u001b[39;00m \u001b[39mself\u001b[39;49m\u001b[39m.\u001b[39;49mget_state_field(\u001b[39m'\u001b[39;49m\u001b[39mbat\u001b[39;49m\u001b[39m'\u001b[39;49m)\n",
      "File \u001b[0;32m/opt/homebrew/lib/python3.10/site-packages/djitellopy/enforce_types.py:54\u001b[0m, in \u001b[0;36menforce_types.<locals>.decorate.<locals>.wrapper\u001b[0;34m(*args, **kwargs)\u001b[0m\n\u001b[1;32m     51\u001b[0m \u001b[39m@wraps\u001b[39m(func)\n\u001b[1;32m     52\u001b[0m \u001b[39mdef\u001b[39;00m \u001b[39mwrapper\u001b[39m(\u001b[39m*\u001b[39margs, \u001b[39m*\u001b[39m\u001b[39m*\u001b[39mkwargs):\n\u001b[1;32m     53\u001b[0m     check_types(spec, \u001b[39m*\u001b[39margs, \u001b[39m*\u001b[39m\u001b[39m*\u001b[39mkwargs)\n\u001b[0;32m---> 54\u001b[0m     \u001b[39mreturn\u001b[39;00m func(\u001b[39m*\u001b[39;49margs, \u001b[39m*\u001b[39;49m\u001b[39m*\u001b[39;49mkwargs)\n",
      "File \u001b[0;32m/opt/homebrew/lib/python3.10/site-packages/djitellopy/tello.py:233\u001b[0m, in \u001b[0;36mTello.get_state_field\u001b[0;34m(self, key)\u001b[0m\n\u001b[1;32m    231\u001b[0m     \u001b[39mreturn\u001b[39;00m state[key]\n\u001b[1;32m    232\u001b[0m \u001b[39melse\u001b[39;00m:\n\u001b[0;32m--> 233\u001b[0m     \u001b[39mraise\u001b[39;00m \u001b[39mException\u001b[39;00m(\u001b[39m'\u001b[39m\u001b[39mCould not get state property: \u001b[39m\u001b[39m{}\u001b[39;00m\u001b[39m'\u001b[39m\u001b[39m.\u001b[39mformat(key))\n",
      "\u001b[0;31mException\u001b[0m: Could not get state property: bat"
     ]
    }
   ],
   "source": [
    "drone.get_battery()"
   ]
  },
  {
   "cell_type": "code",
   "execution_count": 4,
   "metadata": {},
   "outputs": [],
   "source": [
    "objective = \"Find the person who is wearing a blue cap\""
   ]
  },
  {
   "cell_type": "code",
   "execution_count": 6,
   "metadata": {},
   "outputs": [
    {
     "name": "stderr",
     "output_type": "stream",
     "text": [
      "[INFO] tello.py - 437 - Send command: 'takeoff'\n",
      "[WARNING] tello.py - 447 - Aborting command 'takeoff'. Did not receive a response after 20 seconds\n",
      "[INFO] tello.py - 437 - Send command: 'takeoff'\n",
      "[WARNING] tello.py - 447 - Aborting command 'takeoff'. Did not receive a response after 20 seconds\n",
      "[INFO] tello.py - 437 - Send command: 'takeoff'\n"
     ]
    },
    {
     "ename": "OSError",
     "evalue": "[Errno 51] Network is unreachable",
     "output_type": "error",
     "traceback": [
      "\u001b[0;31m---------------------------------------------------------------------------\u001b[0m",
      "\u001b[0;31mOSError\u001b[0m                                   Traceback (most recent call last)",
      "Cell \u001b[0;32mIn[6], line 1\u001b[0m\n\u001b[0;32m----> 1\u001b[0m drone\u001b[39m.\u001b[39;49mtakeoff()\n",
      "File \u001b[0;32m/opt/homebrew/lib/python3.10/site-packages/djitellopy/enforce_types.py:54\u001b[0m, in \u001b[0;36menforce_types.<locals>.decorate.<locals>.wrapper\u001b[0;34m(*args, **kwargs)\u001b[0m\n\u001b[1;32m     51\u001b[0m \u001b[39m@wraps\u001b[39m(func)\n\u001b[1;32m     52\u001b[0m \u001b[39mdef\u001b[39;00m \u001b[39mwrapper\u001b[39m(\u001b[39m*\u001b[39margs, \u001b[39m*\u001b[39m\u001b[39m*\u001b[39mkwargs):\n\u001b[1;32m     53\u001b[0m     check_types(spec, \u001b[39m*\u001b[39margs, \u001b[39m*\u001b[39m\u001b[39m*\u001b[39mkwargs)\n\u001b[0;32m---> 54\u001b[0m     \u001b[39mreturn\u001b[39;00m func(\u001b[39m*\u001b[39;49margs, \u001b[39m*\u001b[39;49m\u001b[39m*\u001b[39;49mkwargs)\n",
      "File \u001b[0;32m/opt/homebrew/lib/python3.10/site-packages/djitellopy/tello.py:573\u001b[0m, in \u001b[0;36mTello.takeoff\u001b[0;34m(self)\u001b[0m\n\u001b[1;32m    569\u001b[0m \u001b[39m\u001b[39m\u001b[39m\"\"\"Automatic takeoff.\u001b[39;00m\n\u001b[1;32m    570\u001b[0m \u001b[39m\"\"\"\u001b[39;00m\n\u001b[1;32m    571\u001b[0m \u001b[39m# Something it takes a looooot of time to take off and return a succesful takeoff.\u001b[39;00m\n\u001b[1;32m    572\u001b[0m \u001b[39m# So we better wait. Otherwise, it would give us an error on the following calls.\u001b[39;00m\n\u001b[0;32m--> 573\u001b[0m \u001b[39mself\u001b[39;49m\u001b[39m.\u001b[39;49msend_control_command(\u001b[39m\"\u001b[39;49m\u001b[39mtakeoff\u001b[39;49m\u001b[39m\"\u001b[39;49m, timeout\u001b[39m=\u001b[39;49mTello\u001b[39m.\u001b[39;49mTAKEOFF_TIMEOUT)\n\u001b[1;32m    574\u001b[0m \u001b[39mself\u001b[39m\u001b[39m.\u001b[39mis_flying \u001b[39m=\u001b[39m \u001b[39mTrue\u001b[39;00m\n",
      "File \u001b[0;32m/opt/homebrew/lib/python3.10/site-packages/djitellopy/enforce_types.py:54\u001b[0m, in \u001b[0;36menforce_types.<locals>.decorate.<locals>.wrapper\u001b[0;34m(*args, **kwargs)\u001b[0m\n\u001b[1;32m     51\u001b[0m \u001b[39m@wraps\u001b[39m(func)\n\u001b[1;32m     52\u001b[0m \u001b[39mdef\u001b[39;00m \u001b[39mwrapper\u001b[39m(\u001b[39m*\u001b[39margs, \u001b[39m*\u001b[39m\u001b[39m*\u001b[39mkwargs):\n\u001b[1;32m     53\u001b[0m     check_types(spec, \u001b[39m*\u001b[39margs, \u001b[39m*\u001b[39m\u001b[39m*\u001b[39mkwargs)\n\u001b[0;32m---> 54\u001b[0m     \u001b[39mreturn\u001b[39;00m func(\u001b[39m*\u001b[39;49margs, \u001b[39m*\u001b[39;49m\u001b[39m*\u001b[39;49mkwargs)\n",
      "File \u001b[0;32m/opt/homebrew/lib/python3.10/site-packages/djitellopy/tello.py:479\u001b[0m, in \u001b[0;36mTello.send_control_command\u001b[0;34m(self, command, timeout)\u001b[0m\n\u001b[1;32m    477\u001b[0m response \u001b[39m=\u001b[39m \u001b[39m\"\u001b[39m\u001b[39mmax retries exceeded\u001b[39m\u001b[39m\"\u001b[39m\n\u001b[1;32m    478\u001b[0m \u001b[39mfor\u001b[39;00m i \u001b[39min\u001b[39;00m \u001b[39mrange\u001b[39m(\u001b[39m0\u001b[39m, \u001b[39mself\u001b[39m\u001b[39m.\u001b[39mretry_count):\n\u001b[0;32m--> 479\u001b[0m     response \u001b[39m=\u001b[39m \u001b[39mself\u001b[39;49m\u001b[39m.\u001b[39;49msend_command_with_return(command, timeout\u001b[39m=\u001b[39;49mtimeout)\n\u001b[1;32m    481\u001b[0m     \u001b[39mif\u001b[39;00m \u001b[39m'\u001b[39m\u001b[39mok\u001b[39m\u001b[39m'\u001b[39m \u001b[39min\u001b[39;00m response\u001b[39m.\u001b[39mlower():\n\u001b[1;32m    482\u001b[0m         \u001b[39mreturn\u001b[39;00m \u001b[39mTrue\u001b[39;00m\n",
      "File \u001b[0;32m/opt/homebrew/lib/python3.10/site-packages/djitellopy/enforce_types.py:54\u001b[0m, in \u001b[0;36menforce_types.<locals>.decorate.<locals>.wrapper\u001b[0;34m(*args, **kwargs)\u001b[0m\n\u001b[1;32m     51\u001b[0m \u001b[39m@wraps\u001b[39m(func)\n\u001b[1;32m     52\u001b[0m \u001b[39mdef\u001b[39;00m \u001b[39mwrapper\u001b[39m(\u001b[39m*\u001b[39margs, \u001b[39m*\u001b[39m\u001b[39m*\u001b[39mkwargs):\n\u001b[1;32m     53\u001b[0m     check_types(spec, \u001b[39m*\u001b[39margs, \u001b[39m*\u001b[39m\u001b[39m*\u001b[39mkwargs)\n\u001b[0;32m---> 54\u001b[0m     \u001b[39mreturn\u001b[39;00m func(\u001b[39m*\u001b[39;49margs, \u001b[39m*\u001b[39;49m\u001b[39m*\u001b[39;49mkwargs)\n",
      "File \u001b[0;32m/opt/homebrew/lib/python3.10/site-packages/djitellopy/tello.py:440\u001b[0m, in \u001b[0;36mTello.send_command_with_return\u001b[0;34m(self, command, timeout)\u001b[0m\n\u001b[1;32m    437\u001b[0m \u001b[39mself\u001b[39m\u001b[39m.\u001b[39mLOGGER\u001b[39m.\u001b[39minfo(\u001b[39m\"\u001b[39m\u001b[39mSend command: \u001b[39m\u001b[39m'\u001b[39m\u001b[39m{}\u001b[39;00m\u001b[39m'\u001b[39m\u001b[39m\"\u001b[39m\u001b[39m.\u001b[39mformat(command))\n\u001b[1;32m    438\u001b[0m timestamp \u001b[39m=\u001b[39m time\u001b[39m.\u001b[39mtime()\n\u001b[0;32m--> 440\u001b[0m client_socket\u001b[39m.\u001b[39;49msendto(command\u001b[39m.\u001b[39;49mencode(\u001b[39m'\u001b[39;49m\u001b[39mutf-8\u001b[39;49m\u001b[39m'\u001b[39;49m), \u001b[39mself\u001b[39;49m\u001b[39m.\u001b[39;49maddress)\n\u001b[1;32m    442\u001b[0m responses \u001b[39m=\u001b[39m \u001b[39mself\u001b[39m\u001b[39m.\u001b[39mget_own_udp_object()[\u001b[39m'\u001b[39m\u001b[39mresponses\u001b[39m\u001b[39m'\u001b[39m]\n\u001b[1;32m    444\u001b[0m \u001b[39mwhile\u001b[39;00m \u001b[39mnot\u001b[39;00m responses:\n",
      "\u001b[0;31mOSError\u001b[0m: [Errno 51] Network is unreachable"
     ]
    }
   ],
   "source": [
    "drone.takeoff()"
   ]
  },
  {
   "cell_type": "code",
   "execution_count": 5,
   "metadata": {},
   "outputs": [
    {
     "name": "stderr",
     "output_type": "stream",
     "text": [
      "[INFO] tello.py - 437 - Send command: 'streamon'\n",
      "[WARNING] tello.py - 447 - Aborting command 'streamon'. Did not receive a response after 7 seconds\n",
      "[INFO] tello.py - 437 - Send command: 'streamon'\n",
      "[WARNING] tello.py - 447 - Aborting command 'streamon'. Did not receive a response after 7 seconds\n",
      "[INFO] tello.py - 437 - Send command: 'streamon'\n",
      "[WARNING] tello.py - 447 - Aborting command 'streamon'. Did not receive a response after 7 seconds\n"
     ]
    },
    {
     "ename": "Exception",
     "evalue": "Command 'streamon' was unsuccessful for 4 tries. Latest response:\t'Aborting command 'streamon'. Did not receive a response after 7 seconds'",
     "output_type": "error",
     "traceback": [
      "\u001b[0;31m---------------------------------------------------------------------------\u001b[0m",
      "\u001b[0;31mException\u001b[0m                                 Traceback (most recent call last)",
      "Cell \u001b[0;32mIn[5], line 1\u001b[0m\n\u001b[0;32m----> 1\u001b[0m drone\u001b[39m.\u001b[39;49mstreamon()\n\u001b[1;32m      2\u001b[0m drone\u001b[39m.\u001b[39mtakeoff()\n",
      "File \u001b[0;32m/opt/homebrew/lib/python3.10/site-packages/djitellopy/enforce_types.py:54\u001b[0m, in \u001b[0;36menforce_types.<locals>.decorate.<locals>.wrapper\u001b[0;34m(*args, **kwargs)\u001b[0m\n\u001b[1;32m     51\u001b[0m \u001b[39m@wraps\u001b[39m(func)\n\u001b[1;32m     52\u001b[0m \u001b[39mdef\u001b[39;00m \u001b[39mwrapper\u001b[39m(\u001b[39m*\u001b[39margs, \u001b[39m*\u001b[39m\u001b[39m*\u001b[39mkwargs):\n\u001b[1;32m     53\u001b[0m     check_types(spec, \u001b[39m*\u001b[39margs, \u001b[39m*\u001b[39m\u001b[39m*\u001b[39mkwargs)\n\u001b[0;32m---> 54\u001b[0m     \u001b[39mreturn\u001b[39;00m func(\u001b[39m*\u001b[39;49margs, \u001b[39m*\u001b[39;49m\u001b[39m*\u001b[39;49mkwargs)\n",
      "File \u001b[0;32m/opt/homebrew/lib/python3.10/site-packages/djitellopy/tello.py:593\u001b[0m, in \u001b[0;36mTello.streamon\u001b[0;34m(self)\u001b[0m\n\u001b[1;32m    582\u001b[0m \u001b[39mdef\u001b[39;00m \u001b[39mstreamon\u001b[39m(\u001b[39mself\u001b[39m):\n\u001b[1;32m    583\u001b[0m \u001b[39m    \u001b[39m\u001b[39m\"\"\"Turn on video streaming. Use `tello.get_frame_read` afterwards.\u001b[39;00m\n\u001b[1;32m    584\u001b[0m \u001b[39m    Video Streaming is supported on all tellos when in AP mode (i.e.\u001b[39;00m\n\u001b[1;32m    585\u001b[0m \u001b[39m    when your computer is connected to Tello-XXXXXX WiFi ntwork).\u001b[39;00m\n\u001b[0;32m   (...)\u001b[0m\n\u001b[1;32m    591\u001b[0m \u001b[39m        firmware. This can be done using the official Tello app.\u001b[39;00m\n\u001b[1;32m    592\u001b[0m \u001b[39m    \"\"\"\u001b[39;00m\n\u001b[0;32m--> 593\u001b[0m     \u001b[39mself\u001b[39;49m\u001b[39m.\u001b[39;49msend_control_command(\u001b[39m\"\u001b[39;49m\u001b[39mstreamon\u001b[39;49m\u001b[39m\"\u001b[39;49m)\n\u001b[1;32m    594\u001b[0m     \u001b[39mself\u001b[39m\u001b[39m.\u001b[39mstream_on \u001b[39m=\u001b[39m \u001b[39mTrue\u001b[39;00m\n",
      "File \u001b[0;32m/opt/homebrew/lib/python3.10/site-packages/djitellopy/enforce_types.py:54\u001b[0m, in \u001b[0;36menforce_types.<locals>.decorate.<locals>.wrapper\u001b[0;34m(*args, **kwargs)\u001b[0m\n\u001b[1;32m     51\u001b[0m \u001b[39m@wraps\u001b[39m(func)\n\u001b[1;32m     52\u001b[0m \u001b[39mdef\u001b[39;00m \u001b[39mwrapper\u001b[39m(\u001b[39m*\u001b[39margs, \u001b[39m*\u001b[39m\u001b[39m*\u001b[39mkwargs):\n\u001b[1;32m     53\u001b[0m     check_types(spec, \u001b[39m*\u001b[39margs, \u001b[39m*\u001b[39m\u001b[39m*\u001b[39mkwargs)\n\u001b[0;32m---> 54\u001b[0m     \u001b[39mreturn\u001b[39;00m func(\u001b[39m*\u001b[39;49margs, \u001b[39m*\u001b[39;49m\u001b[39m*\u001b[39;49mkwargs)\n",
      "File \u001b[0;32m/opt/homebrew/lib/python3.10/site-packages/djitellopy/tello.py:486\u001b[0m, in \u001b[0;36mTello.send_control_command\u001b[0;34m(self, command, timeout)\u001b[0m\n\u001b[1;32m    482\u001b[0m         \u001b[39mreturn\u001b[39;00m \u001b[39mTrue\u001b[39;00m\n\u001b[1;32m    484\u001b[0m     \u001b[39mself\u001b[39m\u001b[39m.\u001b[39mLOGGER\u001b[39m.\u001b[39mdebug(\u001b[39m\"\u001b[39m\u001b[39mCommand attempt #\u001b[39m\u001b[39m{}\u001b[39;00m\u001b[39m failed for command: \u001b[39m\u001b[39m'\u001b[39m\u001b[39m{}\u001b[39;00m\u001b[39m'\u001b[39m\u001b[39m\"\u001b[39m\u001b[39m.\u001b[39mformat(i, command))\n\u001b[0;32m--> 486\u001b[0m \u001b[39mself\u001b[39;49m\u001b[39m.\u001b[39;49mraise_result_error(command, response)\n\u001b[1;32m    487\u001b[0m \u001b[39mreturn\u001b[39;00m \u001b[39mFalse\u001b[39;00m\n",
      "File \u001b[0;32m/opt/homebrew/lib/python3.10/site-packages/djitellopy/enforce_types.py:54\u001b[0m, in \u001b[0;36menforce_types.<locals>.decorate.<locals>.wrapper\u001b[0;34m(*args, **kwargs)\u001b[0m\n\u001b[1;32m     51\u001b[0m \u001b[39m@wraps\u001b[39m(func)\n\u001b[1;32m     52\u001b[0m \u001b[39mdef\u001b[39;00m \u001b[39mwrapper\u001b[39m(\u001b[39m*\u001b[39margs, \u001b[39m*\u001b[39m\u001b[39m*\u001b[39mkwargs):\n\u001b[1;32m     53\u001b[0m     check_types(spec, \u001b[39m*\u001b[39margs, \u001b[39m*\u001b[39m\u001b[39m*\u001b[39mkwargs)\n\u001b[0;32m---> 54\u001b[0m     \u001b[39mreturn\u001b[39;00m func(\u001b[39m*\u001b[39;49margs, \u001b[39m*\u001b[39;49m\u001b[39m*\u001b[39;49mkwargs)\n",
      "File \u001b[0;32m/opt/homebrew/lib/python3.10/site-packages/djitellopy/tello.py:528\u001b[0m, in \u001b[0;36mTello.raise_result_error\u001b[0;34m(self, command, response)\u001b[0m\n\u001b[1;32m    524\u001b[0m \u001b[39m\u001b[39m\u001b[39m\"\"\"Used to reaise an error after an unsuccessful command\u001b[39;00m\n\u001b[1;32m    525\u001b[0m \u001b[39mInternal method, you normally wouldn't call this yourself.\u001b[39;00m\n\u001b[1;32m    526\u001b[0m \u001b[39m\"\"\"\u001b[39;00m\n\u001b[1;32m    527\u001b[0m tries \u001b[39m=\u001b[39m \u001b[39m1\u001b[39m \u001b[39m+\u001b[39m \u001b[39mself\u001b[39m\u001b[39m.\u001b[39mretry_count\n\u001b[0;32m--> 528\u001b[0m \u001b[39mraise\u001b[39;00m \u001b[39mException\u001b[39;00m(\u001b[39m\"\u001b[39m\u001b[39mCommand \u001b[39m\u001b[39m'\u001b[39m\u001b[39m{}\u001b[39;00m\u001b[39m'\u001b[39m\u001b[39m was unsuccessful for \u001b[39m\u001b[39m{}\u001b[39;00m\u001b[39m tries. Latest response:\u001b[39m\u001b[39m\\t\u001b[39;00m\u001b[39m'\u001b[39m\u001b[39m{}\u001b[39;00m\u001b[39m'\u001b[39m\u001b[39m\"\u001b[39m\n\u001b[1;32m    529\u001b[0m                 \u001b[39m.\u001b[39mformat(command, tries, response))\n",
      "\u001b[0;31mException\u001b[0m: Command 'streamon' was unsuccessful for 4 tries. Latest response:\t'Aborting command 'streamon'. Did not receive a response after 7 seconds'"
     ]
    }
   ],
   "source": [
    "drone.streamon()\n",
    "drone.takeoff()"
   ]
  },
  {
   "cell_type": "code",
   "execution_count": 6,
   "metadata": {},
   "outputs": [
    {
     "name": "stderr",
     "output_type": "stream",
     "text": [
      "[INFO] tello.py - 437 - Send command: 'takeoff'\n"
     ]
    },
    {
     "ename": "KeyboardInterrupt",
     "evalue": "",
     "output_type": "error",
     "traceback": [
      "\u001b[0;31m---------------------------------------------------------------------------\u001b[0m",
      "\u001b[0;31mKeyboardInterrupt\u001b[0m                         Traceback (most recent call last)",
      "Cell \u001b[0;32mIn[6], line 1\u001b[0m\n\u001b[0;32m----> 1\u001b[0m drone\u001b[39m.\u001b[39;49mtakeoff()\n",
      "File \u001b[0;32m/opt/homebrew/lib/python3.10/site-packages/djitellopy/enforce_types.py:54\u001b[0m, in \u001b[0;36menforce_types.<locals>.decorate.<locals>.wrapper\u001b[0;34m(*args, **kwargs)\u001b[0m\n\u001b[1;32m     51\u001b[0m \u001b[39m@wraps\u001b[39m(func)\n\u001b[1;32m     52\u001b[0m \u001b[39mdef\u001b[39;00m \u001b[39mwrapper\u001b[39m(\u001b[39m*\u001b[39margs, \u001b[39m*\u001b[39m\u001b[39m*\u001b[39mkwargs):\n\u001b[1;32m     53\u001b[0m     check_types(spec, \u001b[39m*\u001b[39margs, \u001b[39m*\u001b[39m\u001b[39m*\u001b[39mkwargs)\n\u001b[0;32m---> 54\u001b[0m     \u001b[39mreturn\u001b[39;00m func(\u001b[39m*\u001b[39;49margs, \u001b[39m*\u001b[39;49m\u001b[39m*\u001b[39;49mkwargs)\n",
      "File \u001b[0;32m/opt/homebrew/lib/python3.10/site-packages/djitellopy/tello.py:573\u001b[0m, in \u001b[0;36mTello.takeoff\u001b[0;34m(self)\u001b[0m\n\u001b[1;32m    569\u001b[0m \u001b[39m\u001b[39m\u001b[39m\"\"\"Automatic takeoff.\u001b[39;00m\n\u001b[1;32m    570\u001b[0m \u001b[39m\"\"\"\u001b[39;00m\n\u001b[1;32m    571\u001b[0m \u001b[39m# Something it takes a looooot of time to take off and return a succesful takeoff.\u001b[39;00m\n\u001b[1;32m    572\u001b[0m \u001b[39m# So we better wait. Otherwise, it would give us an error on the following calls.\u001b[39;00m\n\u001b[0;32m--> 573\u001b[0m \u001b[39mself\u001b[39;49m\u001b[39m.\u001b[39;49msend_control_command(\u001b[39m\"\u001b[39;49m\u001b[39mtakeoff\u001b[39;49m\u001b[39m\"\u001b[39;49m, timeout\u001b[39m=\u001b[39;49mTello\u001b[39m.\u001b[39;49mTAKEOFF_TIMEOUT)\n\u001b[1;32m    574\u001b[0m \u001b[39mself\u001b[39m\u001b[39m.\u001b[39mis_flying \u001b[39m=\u001b[39m \u001b[39mTrue\u001b[39;00m\n",
      "File \u001b[0;32m/opt/homebrew/lib/python3.10/site-packages/djitellopy/enforce_types.py:54\u001b[0m, in \u001b[0;36menforce_types.<locals>.decorate.<locals>.wrapper\u001b[0;34m(*args, **kwargs)\u001b[0m\n\u001b[1;32m     51\u001b[0m \u001b[39m@wraps\u001b[39m(func)\n\u001b[1;32m     52\u001b[0m \u001b[39mdef\u001b[39;00m \u001b[39mwrapper\u001b[39m(\u001b[39m*\u001b[39margs, \u001b[39m*\u001b[39m\u001b[39m*\u001b[39mkwargs):\n\u001b[1;32m     53\u001b[0m     check_types(spec, \u001b[39m*\u001b[39margs, \u001b[39m*\u001b[39m\u001b[39m*\u001b[39mkwargs)\n\u001b[0;32m---> 54\u001b[0m     \u001b[39mreturn\u001b[39;00m func(\u001b[39m*\u001b[39;49margs, \u001b[39m*\u001b[39;49m\u001b[39m*\u001b[39;49mkwargs)\n",
      "File \u001b[0;32m/opt/homebrew/lib/python3.10/site-packages/djitellopy/tello.py:479\u001b[0m, in \u001b[0;36mTello.send_control_command\u001b[0;34m(self, command, timeout)\u001b[0m\n\u001b[1;32m    477\u001b[0m response \u001b[39m=\u001b[39m \u001b[39m\"\u001b[39m\u001b[39mmax retries exceeded\u001b[39m\u001b[39m\"\u001b[39m\n\u001b[1;32m    478\u001b[0m \u001b[39mfor\u001b[39;00m i \u001b[39min\u001b[39;00m \u001b[39mrange\u001b[39m(\u001b[39m0\u001b[39m, \u001b[39mself\u001b[39m\u001b[39m.\u001b[39mretry_count):\n\u001b[0;32m--> 479\u001b[0m     response \u001b[39m=\u001b[39m \u001b[39mself\u001b[39;49m\u001b[39m.\u001b[39;49msend_command_with_return(command, timeout\u001b[39m=\u001b[39;49mtimeout)\n\u001b[1;32m    481\u001b[0m     \u001b[39mif\u001b[39;00m \u001b[39m'\u001b[39m\u001b[39mok\u001b[39m\u001b[39m'\u001b[39m \u001b[39min\u001b[39;00m response\u001b[39m.\u001b[39mlower():\n\u001b[1;32m    482\u001b[0m         \u001b[39mreturn\u001b[39;00m \u001b[39mTrue\u001b[39;00m\n",
      "File \u001b[0;32m/opt/homebrew/lib/python3.10/site-packages/djitellopy/enforce_types.py:54\u001b[0m, in \u001b[0;36menforce_types.<locals>.decorate.<locals>.wrapper\u001b[0;34m(*args, **kwargs)\u001b[0m\n\u001b[1;32m     51\u001b[0m \u001b[39m@wraps\u001b[39m(func)\n\u001b[1;32m     52\u001b[0m \u001b[39mdef\u001b[39;00m \u001b[39mwrapper\u001b[39m(\u001b[39m*\u001b[39margs, \u001b[39m*\u001b[39m\u001b[39m*\u001b[39mkwargs):\n\u001b[1;32m     53\u001b[0m     check_types(spec, \u001b[39m*\u001b[39margs, \u001b[39m*\u001b[39m\u001b[39m*\u001b[39mkwargs)\n\u001b[0;32m---> 54\u001b[0m     \u001b[39mreturn\u001b[39;00m func(\u001b[39m*\u001b[39;49margs, \u001b[39m*\u001b[39;49m\u001b[39m*\u001b[39;49mkwargs)\n",
      "File \u001b[0;32m/opt/homebrew/lib/python3.10/site-packages/djitellopy/tello.py:449\u001b[0m, in \u001b[0;36mTello.send_command_with_return\u001b[0;34m(self, command, timeout)\u001b[0m\n\u001b[1;32m    447\u001b[0m         \u001b[39mself\u001b[39m\u001b[39m.\u001b[39mLOGGER\u001b[39m.\u001b[39mwarning(message)\n\u001b[1;32m    448\u001b[0m         \u001b[39mreturn\u001b[39;00m message\n\u001b[0;32m--> 449\u001b[0m     time\u001b[39m.\u001b[39;49msleep(\u001b[39m0.1\u001b[39;49m)  \u001b[39m# Sleep during send command\u001b[39;00m\n\u001b[1;32m    451\u001b[0m \u001b[39mself\u001b[39m\u001b[39m.\u001b[39mlast_received_command_timestamp \u001b[39m=\u001b[39m time\u001b[39m.\u001b[39mtime()\n\u001b[1;32m    453\u001b[0m first_response \u001b[39m=\u001b[39m responses\u001b[39m.\u001b[39mpop(\u001b[39m0\u001b[39m)  \u001b[39m# first datum from socket\u001b[39;00m\n",
      "\u001b[0;31mKeyboardInterrupt\u001b[0m: "
     ]
    }
   ],
   "source": [
    "drone.takeoff()"
   ]
  },
  {
   "cell_type": "code",
   "execution_count": 32,
   "metadata": {},
   "outputs": [],
   "source": [
    "def query_the_environment(drone, question):\n",
    "    image = drone.get_frame_read().frame\n",
    "    encoding = processor(image, question, return_tensors=\"pt\")\n",
    "    outputs = model(**encoding)\n",
    "    logits = outputs.logits\n",
    "    idx = torch.sigmoid(logits).argmax(-1).item()\n",
    "    return str(model.config.id2label[idx])\n"
   ]
  },
  {
   "cell_type": "code",
   "execution_count": 33,
   "metadata": {},
   "outputs": [],
   "source": [
    "# Generate next action prompt\n",
    "def next_action_prompt(prompt_template, objective, environment_context, previous_commands, previous_context, vqa_questions):\n",
    "    prompt = prompt_template.replace(\"$objective\", objective)\n",
    "    prompt = prompt.replace(\"$context\", environment_context)\n",
    "    prompt = prompt.replace(\"$previous_commands\", previous_commands)\n",
    "    prompt = prompt.replace(\"$previous_context\", previous_context)\n",
    "    prompt = prompt.replace(\"$vqa_questions\", vqa_questions)\n",
    "    return prompt, [\"\\n\"] # prompt and stop token"
   ]
  },
  {
   "cell_type": "code",
   "execution_count": 34,
   "metadata": {},
   "outputs": [],
   "source": [
    "def prompt(prompt, stop_tokens):\n",
    "    response = openai.Completion.create(\n",
    "        engine=\"text-davinci-003\",\n",
    "        prompt=prompt,\n",
    "        temperature=0.5,\n",
    "        max_tokens=1000,\n",
    "        top_p=1,\n",
    "        frequency_penalty=0,\n",
    "        presence_penalty=0,\n",
    "        best_of=10,\n",
    "        stop=stop_tokens,\n",
    "    )\n",
    "    return response.choices[0].text"
   ]
  },
  {
   "cell_type": "code",
   "execution_count": 35,
   "metadata": {},
   "outputs": [],
   "source": [
    "def get_vqa_questions(vqa_prompt_template, objective):\n",
    "    prompt_text = vqa_prompt_template.replace(\"$objective\", objective)\n",
    "    result = prompt(prompt_text, [\"&&&&&&\"])\n",
    "    matches = re.findall(r'@(.+?)@', result)\n",
    "    return matches\n"
   ]
  },
  {
   "cell_type": "code",
   "execution_count": 36,
   "metadata": {},
   "outputs": [
    {
     "data": {
      "text/plain": [
       "['Is there a person in the image?', 'Is there a blue cap in the image?']"
      ]
     },
     "execution_count": 36,
     "metadata": {},
     "output_type": "execute_result"
    }
   ],
   "source": [
    "get_vqa_questions(vqa_prompt_template, objective)"
   ]
  },
  {
   "cell_type": "code",
   "execution_count": null,
   "metadata": {},
   "outputs": [],
   "source": [
    "def explore(drone, use_gpt=False, prompt_template=explore_template):\n",
    "    if use_gpt:\n",
    "       prompt(prompt_template)\n",
    "    else:\n",
    "        import random as r\n",
    "        # randomly generate a number between 45 and 180\n",
    "        random_angle = r.randint(45, 180)\n",
    "        # randomly generate a number between 5 and 20\n",
    "        random_distance = r.randint(5, 20)\n",
    "        actions = [(drone.move_left, random_distance), (drone.move_right, random_distance), (drone.rotate_clockwise, random_angle), (drone.rotate_counter_clockwise, random_angle), (drone.move_forward, random_distance), (drone.move_back, random_distance)]\n",
    "\n",
    "        # sample 3 actions\n",
    "        sampled_actions = r.sample(actions, 3)\n",
    "        for action in sampled_actions:\n",
    "            action[0](action[1])\n",
    "            time.sleep(0.5)\n"
   ]
  },
  {
   "cell_type": "code",
   "execution_count": null,
   "metadata": {},
   "outputs": [],
   "source": []
  }
 ],
 "metadata": {
  "kernelspec": {
   "display_name": "Python 3",
   "language": "python",
   "name": "python3"
  },
  "language_info": {
   "codemirror_mode": {
    "name": "ipython",
    "version": 3
   },
   "file_extension": ".py",
   "mimetype": "text/x-python",
   "name": "python",
   "nbconvert_exporter": "python",
   "pygments_lexer": "ipython3",
   "version": "3.10.6"
  },
  "orig_nbformat": 4,
  "vscode": {
   "interpreter": {
    "hash": "b0fa6594d8f4cbf19f97940f81e996739fb7646882a419484c72d19e05852a7e"
   }
  }
 },
 "nbformat": 4,
 "nbformat_minor": 2
}
