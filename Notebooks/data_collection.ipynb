{
 "cells": [
  {
   "cell_type": "code",
   "execution_count": 6,
   "metadata": {},
   "outputs": [
    {
     "name": "stdout",
     "output_type": "stream",
     "text": [
      "All Required Packages are Imported.\n"
     ]
    }
   ],
   "source": [
    "# Import Required Packages\n",
    "from djitellopy import Tello\n",
    "from threading import Thread\n",
    "import cv2\n",
    "import time\n",
    "import sys\n",
    "import os\n",
    "\n",
    "# Configure Packages\n",
    "module_path = os.path.abspath(os.path.join('..'))\n",
    "if module_path not in sys.path:\n",
    "    sys.path.append(module_path+\"/Scripts/\")\n",
    "\n",
    "from data_collection_utils import take_individual_picture, stream_video, stream_frames, record_streamed_frames\n",
    "from video_test_flight import flight\n",
    "\n",
    "print(\"All Required Packages are Imported.\")"
   ]
  },
  {
   "cell_type": "code",
   "execution_count": 7,
   "metadata": {},
   "outputs": [
    {
     "name": "stderr",
     "output_type": "stream",
     "text": [
      "[INFO] tello.py - 122 - Tello instance was initialized. Host: '192.168.10.1'. Port: '8889'.\n",
      "[INFO] tello.py - 437 - Send command: 'command'\n",
      "[WARNING] tello.py - 447 - Aborting command 'command'. Did not receive a response after 7 seconds\n",
      "[INFO] tello.py - 437 - Send command: 'command'\n",
      "[INFO] tello.py - 461 - Response command: 'ok'\n"
     ]
    }
   ],
   "source": [
    "drone = Tello()\n",
    "drone.connect()"
   ]
  },
  {
   "cell_type": "code",
   "execution_count": 7,
   "metadata": {},
   "outputs": [
    {
     "name": "stderr",
     "output_type": "stream",
     "text": [
      "[INFO] tello.py - 122 - Tello instance was initialized. Host: '192.168.10.1'. Port: '8889'.\n",
      "[INFO] tello.py - 437 - Send command: 'command'\n",
      "[WARNING] tello.py - 447 - Aborting command 'command'. Did not receive a response after 7 seconds\n",
      "[INFO] tello.py - 437 - Send command: 'command'\n",
      "[INFO] tello.py - 461 - Response command: 'ok'\n",
      "[INFO] tello.py - 437 - Send command: 'takeoff'\n"
     ]
    },
    {
     "name": "stdout",
     "output_type": "stream",
     "text": [
      "35\n"
     ]
    },
    {
     "name": "stderr",
     "output_type": "stream",
     "text": [
      "[INFO] tello.py - 461 - Response takeoff: 'ok'\n",
      "[INFO] tello.py - 437 - Send command: 'up 100'\n",
      "[INFO] tello.py - 461 - Response up 100: 'ok'\n",
      "[INFO] tello.py - 437 - Send command: 'streamon'\n",
      "[INFO] tello.py - 461 - Response streamon: 'ok'\n",
      "[INFO] tello.py - 437 - Send command: 'streamon'\n",
      "[h264 @ 0x7fa54da5ca00] error while decoding MB 56 36, bytestream -6\n",
      "[h264 @ 0x7fa54da27d00] error while decoding MB 43 37, bytestream -6\n",
      "[h264 @ 0x7fa54da3ce00] error while decoding MB 20 36, bytestream -10\n",
      "[INFO] tello.py - 461 - Response streamon: 'ok'\n",
      "[INFO] tello.py - 437 - Send command: 'streamon'\n",
      "[INFO] tello.py - 461 - Response streamon: 'ok'\n",
      "[INFO] tello.py - 437 - Send command: 'land'\n"
     ]
    },
    {
     "name": "stdout",
     "output_type": "stream",
     "text": [
      "-5.9374098777771\n"
     ]
    },
    {
     "name": "stderr",
     "output_type": "stream",
     "text": [
      "[h264 @ 0x7fa54da324c0] error while decoding MB 4 35, bytestream 325\n",
      "[INFO] tello.py - 461 - Response land: 'ok'\n"
     ]
    },
    {
     "name": "stderr",
     "output_type": "stream",
     "text": [
      "Exception in thread Thread-7:\n",
      "Traceback (most recent call last):\n",
      "  File \"/Users/brianwu/opt/anaconda3/lib/python3.9/threading.py\", line 980, in _bootstrap_inner\n",
      "    self.run()\n",
      "  File \"/Users/brianwu/opt/anaconda3/lib/python3.9/threading.py\", line 917, in run\n",
      "    self._target(*self._args, **self._kwargs)\n",
      "  File \"/Users/brianwu/opt/anaconda3/lib/python3.9/site-packages/djitellopy/tello.py\", line 1065, in update_frame\n",
      "    self.stop()\n",
      "  File \"/Users/brianwu/opt/anaconda3/lib/python3.9/site-packages/djitellopy/tello.py\", line 1074, in stop\n",
      "    self.worker.join()\n",
      "  File \"/Users/brianwu/opt/anaconda3/lib/python3.9/threading.py\", line 1057, in join\n",
      "    raise RuntimeError(\"cannot join current thread\")\n",
      "RuntimeError: cannot join current thread\n"
     ]
    }
   ],
   "source": [
    "# Collect Images\n",
    "\n",
    "# Set up Drone\n",
    "drone = Tello()\n",
    "drone.connect()\n",
    "\n",
    "print(drone.get_battery())\n",
    "\n",
    "# Take Off and Hover\n",
    "drone.takeoff()\n",
    "\n",
    "# Flight Actions\n",
    "drone.move_up(50) # height in cm\n",
    "\n",
    "# starting_time = time.time()\n",
    "# take_individual_picture(drone)\n",
    "# take_individual_picture(drone)\n",
    "# take_individual_picture(drone)\n",
    "# ending_time = time.time()\n",
    "# print(starting_time - ending_time)\n",
    "\n",
    "for i in range(24):\n",
    "    drone.rotate_counter_clockwise(15) # degrees per rotation\n",
    "    take_individual_picture(drone)\n",
    "    \n",
    "# Land after mission completes\n",
    "drone.land()"
   ]
  },
  {
   "cell_type": "code",
   "execution_count": null,
   "metadata": {},
   "outputs": [],
   "source": [
    "# Collect Video\n",
    "\"\"\"\n",
    "Note: this script requires specifyng a custom flight path in Scripts/video_test_flight.py\n",
    "\"\"\"\n",
    "stream_video()"
   ]
  },
  {
   "cell_type": "code",
   "execution_count": 8,
   "metadata": {},
   "outputs": [
    {
     "name": "stderr",
     "output_type": "stream",
     "text": [
      "[INFO] tello.py - 437 - Send command: 'takeoff'\n",
      "[INFO] tello.py - 461 - Response takeoff: 'ok'\n",
      "[INFO] tello.py - 437 - Send command: 'streamon'\n",
      "[INFO] tello.py - 461 - Response streamon: 'ok'\n"
     ]
    },
    {
     "ename": "KeyboardInterrupt",
     "evalue": "",
     "output_type": "error",
     "traceback": [
      "\u001b[0;31m---------------------------------------------------------------------------\u001b[0m",
      "\u001b[0;31mKeyboardInterrupt\u001b[0m                         Traceback (most recent call last)",
      "Cell \u001b[0;32mIn[8], line 2\u001b[0m\n\u001b[1;32m      1\u001b[0m drone\u001b[39m.\u001b[39mtakeoff()\n\u001b[0;32m----> 2\u001b[0m stream_frames(drone)\n",
      "File \u001b[0;32m~/project/DroneFormer/Scripts/data_collection_utils.py:24\u001b[0m, in \u001b[0;36mstream_frames\u001b[0;34m(drone)\u001b[0m\n\u001b[1;32m     22\u001b[0m img \u001b[39m=\u001b[39m cv2\u001b[39m.\u001b[39mresize(img, (\u001b[39m360\u001b[39m, \u001b[39m240\u001b[39m))\n\u001b[1;32m     23\u001b[0m cv2\u001b[39m.\u001b[39mimshow(\u001b[39m\"\u001b[39m\u001b[39mImage\u001b[39m\u001b[39m\"\u001b[39m, img)\n\u001b[0;32m---> 24\u001b[0m cv2\u001b[39m.\u001b[39;49mwaitKey(\u001b[39m1\u001b[39;49m)\n",
      "\u001b[0;31mKeyboardInterrupt\u001b[0m: "
     ]
    }
   ],
   "source": [
    "drone.takeoff()\n",
    "stream_frames(drone)"
   ]
  },
  {
   "cell_type": "code",
   "execution_count": 8,
   "metadata": {},
   "outputs": [
    {
     "name": "stderr",
     "output_type": "stream",
     "text": [
      "[INFO] tello.py - 437 - Send command: 'streamon'\n",
      "[INFO] tello.py - 461 - Response streamon: 'ok'\n",
      "[h264 @ 0x11007ec00] error while decoding MB 24 41, bytestream -6\n",
      "[h264 @ 0x1100ce800] error while decoding MB 24 41, bytestream -6\n",
      "OpenCV: FFMPEG: tag 0x5634504d/'MP4V' is not supported with codec id 12 and format 'mp4 / MP4 (MPEG-4 Part 14)'\n",
      "OpenCV: FFMPEG: fallback to use tag 0x7634706d/'mp4v'\n",
      "[h264 @ 0x1100cd600] left block unavailable for requested intra mode\n",
      "[h264 @ 0x1100cd600] error while decoding MB 0 30, bytestream 1305\n",
      "[h264 @ 0x1100ce200] error while decoding MB 47 37, bytestream -5\n",
      "[h264 @ 0x11003aa00] left block unavailable for requested intra mode\n",
      "[h264 @ 0x11003aa00] error while decoding MB 0 36, bytestream 233\n",
      "[h264 @ 0x11003aa00] error while decoding MB 8 34, bytestream 358\n"
     ]
    },
    {
     "ename": "",
     "evalue": "",
     "output_type": "error",
     "traceback": [
      "\u001b[1;31mThe Kernel crashed while executing code in the the current cell or a previous cell. Please review the code in the cell(s) to identify a possible cause of the failure. Click <a href='https://aka.ms/vscodeJupyterKernelCrash'>here</a> for more info. View Jupyter <a href='command:jupyter.viewOutput'>log</a> for further details."
     ]
    }
   ],
   "source": [
    "record_streamed_frames(drone)"
   ]
  },
  {
   "cell_type": "code",
   "execution_count": null,
   "metadata": {},
   "outputs": [],
   "source": []
  }
 ],
 "metadata": {
  "kernelspec": {
   "display_name": "Python 3",
   "language": "python",
   "name": "python3"
  },
  "language_info": {
   "codemirror_mode": {
    "name": "ipython",
    "version": 3
   },
   "file_extension": ".py",
   "mimetype": "text/x-python",
   "name": "python",
   "nbconvert_exporter": "python",
   "pygments_lexer": "ipython3",
   "version": "3.10.6"
  },
  "orig_nbformat": 4,
  "vscode": {
   "interpreter": {
    "hash": "b0fa6594d8f4cbf19f97940f81e996739fb7646882a419484c72d19e05852a7e"
   }
  }
 },
 "nbformat": 4,
 "nbformat_minor": 2
}
