{
 "cells": [
  {
   "cell_type": "code",
   "execution_count": null,
   "metadata": {},
   "outputs": [],
   "source": [
    "# Import Required Packages\n",
    "from djitellopy import Tello\n",
    "from threading import Thread\n",
    "import cv2\n",
    "import time\n",
    "import sys\n",
    "import os\n",
    "\n",
    "# Configure Packages\n",
    "module_path = os.path.abspath(os.path.join('..'))\n",
    "if module_path not in sys.path:\n",
    "    sys.path.append(module_path+\"/Scripts/\")\n",
    "\n",
    "# Local Utilities\n",
    "from data_collection_utils import take_individual_picture, stream_video, stream_frames, record_streamed_frames\n",
    "from video_test_flight import flight\n",
    "\n",
    "print(\"All Required Packages are Imported.\")"
   ]
  },
  {
   "cell_type": "code",
   "execution_count": null,
   "metadata": {},
   "outputs": [],
   "source": [
    "# Connect the Drone\n",
    "drone = Tello()\n",
    "drone.connect()"
   ]
  },
  {
   "cell_type": "code",
   "execution_count": null,
   "metadata": {},
   "outputs": [],
   "source": [
    "# Print out battery charge levels\n",
    "drone.get_battery()"
   ]
  },
  {
   "cell_type": "code",
   "execution_count": null,
   "metadata": {},
   "outputs": [],
   "source": [
    "# Collect Images\n",
    "\n",
    "# Set up Drone\n",
    "drone = Tello()\n",
    "drone.connect()\n",
    "\n",
    "print(drone.get_battery())\n",
    "\n",
    "# Take Off and Hover\n",
    "drone.takeoff()\n",
    "\n",
    "# Flight Actions\n",
    "drone.move_up(50) # height in cm\n",
    "\n",
    "for i in range(24):\n",
    "    drone.rotate_counter_clockwise(15) # degrees per rotation\n",
    "    take_individual_picture(drone)\n",
    "    \n",
    "# Land after mission completes\n",
    "drone.land()"
   ]
  },
  {
   "cell_type": "code",
   "execution_count": null,
   "metadata": {},
   "outputs": [],
   "source": [
    "# Record the time it takes to take a picture and save it locally\n",
    "# Set up Drone\n",
    "drone = Tello()\n",
    "drone.connect()\n",
    "\n",
    "print(drone.get_battery())\n",
    "\n",
    "# Take Off and Hover\n",
    "drone.takeoff()\n",
    "\n",
    "# Flight Actions\n",
    "drone.move_up(50) # height in cm\n",
    "\n",
    "starting_time = time.time()\n",
    "take_individual_picture(drone)\n",
    "ending_time = time.time()\n",
    "print(ending_time - starting_time)\n",
    "    \n",
    "# Land after mission completes\n",
    "drone.land()"
   ]
  },
  {
   "cell_type": "code",
   "execution_count": null,
   "metadata": {},
   "outputs": [],
   "source": [
    "# Collect Video using legacy function\n",
    "\"\"\"\n",
    "Note: this script requires specifyng a custom flight path in Scripts/video_test_flight.py\n",
    "\"\"\"\n",
    "stream_video()"
   ]
  },
  {
   "cell_type": "code",
   "execution_count": null,
   "metadata": {},
   "outputs": [],
   "source": [
    "# Stream Video Frame by Frame (without saving) - TEST\n",
    "\n",
    "# Takeoff\n",
    "drone.takeoff()\n",
    "\n",
    "if 1:\n",
    "    stream_frames(drone)\n",
    "if 1:\n",
    "    record_streamed_frames(drone)\n",
    "\n",
    "# Land after mission completes\n",
    "drone.land()"
   ]
  },
  {
   "cell_type": "code",
   "execution_count": null,
   "metadata": {},
   "outputs": [],
   "source": [
    "# Stream Video Frames using a Thread and collect data\n",
    "\n",
    "# Takeoff\n",
    "drone.takeoff()\n",
    "\n",
    "# Initialize a video recorder as a thread\n",
    "recorder = Thread(target=stream_frames, args=(drone, True))\n",
    "recorder.start()\n",
    "\n",
    "# Flight Actions\n",
    "drone.move_forward(50) # move forward\n",
    "\n",
    "drone.rotate_clockwise(90) # turn clockwise\n",
    "\n",
    "drone.move_back(50) # move backward\n",
    "\n",
    "drone.move_left(50) # move left\n",
    "\n",
    "drone.move_right(50) # move right \n",
    "\n",
    "drone.move_down(50) #move down\n",
    "\n",
    "drone.move_up(50) # move up\n",
    "\n",
    "# Stream Video Frames and take an individual picture\n",
    "stream_frames(drone, save = True)\n",
    "take_individual_picture(drone)\n",
    "\n",
    "# Land the Drone\n",
    "drone.land()"
   ]
  }
 ],
 "metadata": {
  "kernelspec": {
   "display_name": "base",
   "language": "python",
   "name": "python3"
  },
  "language_info": {
   "codemirror_mode": {
    "name": "ipython",
    "version": 3
   },
   "file_extension": ".py",
   "mimetype": "text/x-python",
   "name": "python",
   "nbconvert_exporter": "python",
   "pygments_lexer": "ipython3",
   "version": "3.9.13"
  },
  "orig_nbformat": 4,
  "vscode": {
   "interpreter": {
    "hash": "5940fbd60f4524a89d25f69a9047e7141ce4840794657a7e6183bb38ffdcde84"
   }
  }
 },
 "nbformat": 4,
 "nbformat_minor": 2
}
